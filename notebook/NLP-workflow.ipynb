{
 "cells": [
  {
   "cell_type": "code",
   "execution_count": 2,
   "metadata": {
    "ExecuteTime": {
     "end_time": "2019-12-28T20:48:27.730142Z",
     "start_time": "2019-12-28T20:48:22.418977Z"
    }
   },
   "outputs": [],
   "source": [
    "import numpy as np\n",
    "import pandas as pd\n",
    "import matplotlib.pyplot as plt\n",
    "import seaborn as sns\n",
    "import re\n",
    "import string\n",
    "import itertools\n",
    "\n",
    "from urllib import request\n",
    "from bs4 import BeautifulSoup\n",
    "\n",
    "import nltk, re, pprint\n",
    "from nltk import word_tokenize, sent_tokenize\n",
    "\n",
    "from nltk.util import ngrams\n",
    "\n",
    "from nltk.stem.lancaster import LancasterStemmer\n",
    "from nltk.stem.porter import PorterStemmer\n",
    "\n",
    "from nltk.stem import WordNetLemmatizer\n",
    "\n",
    "from nltk.probability import FreqDist\n",
    "\n",
    "from nltk.corpus import stopwords\n",
    "\n",
    "from nltk.tag import pos_tag\n",
    "\n",
    "from sklearn.feature_extraction.text import CountVectorizer\n",
    "from sklearn.feature_extraction.text import TfidfVectorizer\n",
    "\n",
    "from sklearn.cluster import KMeans\n",
    "\n",
    "from sklearn.decomposition import NMF\n",
    "from sklearn.discriminant_analysis import LinearDiscriminantAnalysis as LDA\n",
    "\n",
    "from textblob import TextBlob, Word\n",
    "from vaderSentiment.vaderSentiment import SentimentIntensityAnalyzer\n",
    "\n",
    "import scattertext as st\n",
    "\n",
    "from corextopic import corextopic as ct\n",
    "from corextopic import vis_topic as vt\n",
    "\n",
    "import gensim"
   ]
  },
  {
   "cell_type": "markdown",
   "metadata": {},
   "source": [
    "## Read HTML Data and perform basic cleaning"
   ]
  },
  {
   "cell_type": "code",
   "execution_count": 3,
   "metadata": {
    "ExecuteTime": {
     "end_time": "2019-12-28T20:48:27.746267Z",
     "start_time": "2019-12-28T20:48:27.735073Z"
    }
   },
   "outputs": [],
   "source": [
    "url_buddha = \"https://www.gutenberg.org/files/35895/35895-0.txt\"\n",
    "url_kingjames = \"http://www.gutenberg.org/cache/epub/10900/pg10900.txt\"\n",
    "url_koran = \"http://www.gutenberg.org/cache/epub/3434/pg3434.txt\"\n",
    "url_mormon = \"http://www.gutenberg.org/cache/epub/17/pg17.txt\""
   ]
  },
  {
   "cell_type": "code",
   "execution_count": 4,
   "metadata": {
    "ExecuteTime": {
     "end_time": "2019-12-28T20:48:28.161411Z",
     "start_time": "2019-12-28T20:48:27.750879Z"
    }
   },
   "outputs": [],
   "source": [
    "response_buddha = request.urlopen(url_buddha)\n",
    "response_james = request.urlopen(url_kingjames)\n",
    "response_koran = request.urlopen(url_koran)\n",
    "response_mormon = request.urlopen(url_mormon)"
   ]
  },
  {
   "cell_type": "code",
   "execution_count": 5,
   "metadata": {
    "ExecuteTime": {
     "end_time": "2019-12-28T20:48:30.627766Z",
     "start_time": "2019-12-28T20:48:28.164213Z"
    }
   },
   "outputs": [],
   "source": [
    "buddha = response_buddha.read().decode('utf8')\n",
    "king_james = response_james.read().decode('utf8')\n",
    "koran = response_koran.read().decode('utf8')\n",
    "mormon = response_mormon.read().decode('utf8')"
   ]
  },
  {
   "cell_type": "markdown",
   "metadata": {},
   "source": [
    "### Split King James Bible into Old and New Testaments"
   ]
  },
  {
   "cell_type": "code",
   "execution_count": 6,
   "metadata": {
    "ExecuteTime": {
     "end_time": "2019-12-28T20:48:30.641481Z",
     "start_time": "2019-12-28T20:48:30.631308Z"
    }
   },
   "outputs": [],
   "source": [
    "# Old Testament\n",
    "\n",
    "old_testament = king_james[:3427088]"
   ]
  },
  {
   "cell_type": "code",
   "execution_count": 7,
   "metadata": {
    "ExecuteTime": {
     "end_time": "2019-12-28T20:48:30.651208Z",
     "start_time": "2019-12-28T20:48:30.645338Z"
    }
   },
   "outputs": [],
   "source": [
    "# New Testament\n",
    "\n",
    "new_testament = king_james[3427088:]"
   ]
  },
  {
   "cell_type": "markdown",
   "metadata": {},
   "source": [
    "### Remove header and footer"
   ]
  },
  {
   "cell_type": "code",
   "execution_count": 8,
   "metadata": {
    "ExecuteTime": {
     "end_time": "2019-12-28T20:48:30.660542Z",
     "start_time": "2019-12-28T20:48:30.654061Z"
    }
   },
   "outputs": [],
   "source": [
    "# Gospel of Buddha\n",
    "\n",
    "for match in re.finditer('REJOICE', buddha):\n",
    "    text_start = match.end()\n",
    "\n",
    "for match in re.finditer('End of the Project Gutenberg EBook', buddha):\n",
    "    text_end = match.start()\n",
    "\n",
    "    buddha = buddha[text_start:text_end]"
   ]
  },
  {
   "cell_type": "code",
   "execution_count": 9,
   "metadata": {
    "ExecuteTime": {
     "end_time": "2019-12-28T20:48:30.675885Z",
     "start_time": "2019-12-28T20:48:30.665113Z"
    }
   },
   "outputs": [],
   "source": [
    "# Book of Mormon\n",
    "\n",
    "for match in re.finditer('START OF THIS PROJECT GUTENBERG EBOOK', mormon):\n",
    "    text_start = match.end()\n",
    "\n",
    "for match in re.finditer('End of the Project Gutenberg EBook', mormon):\n",
    "    text_end = match.start()\n",
    "\n",
    "    mormon = mormon[text_start:text_end]"
   ]
  },
  {
   "cell_type": "code",
   "execution_count": 10,
   "metadata": {
    "ExecuteTime": {
     "end_time": "2019-12-28T20:48:30.690118Z",
     "start_time": "2019-12-28T20:48:30.681020Z"
    }
   },
   "outputs": [],
   "source": [
    "# Koran\n",
    "\n",
    "for match in re.finditer('START OF THIS PROJECT GUTENBERG EBOOK', koran):\n",
    "    text_start = match.end()\n",
    "\n",
    "for match in re.finditer('End of the Project Gutenberg EBook', koran):\n",
    "    text_end = match.start()\n",
    "\n",
    "    koran = koran[text_start:text_end]"
   ]
  },
  {
   "cell_type": "code",
   "execution_count": 11,
   "metadata": {
    "ExecuteTime": {
     "end_time": "2019-12-28T20:48:30.708572Z",
     "start_time": "2019-12-28T20:48:30.692989Z"
    }
   },
   "outputs": [],
   "source": [
    "# Old Testament\n",
    "\n",
    "for match in re.finditer('START OF THIS PROJECT GUTENBERG EBOOK', old_testament):\n",
    "    text_start = match.end()\n",
    "\n",
    "    old_testament = old_testament[text_start:]"
   ]
  },
  {
   "cell_type": "code",
   "execution_count": 12,
   "metadata": {
    "ExecuteTime": {
     "end_time": "2019-12-28T20:48:30.723501Z",
     "start_time": "2019-12-28T20:48:30.713024Z"
    }
   },
   "outputs": [],
   "source": [
    "# New Testament\n",
    "\n",
    "for match in re.finditer('End of Project Gutenberg', new_testament):\n",
    "    text_end = match.start()\n",
    "\n",
    "    new_testament = new_testament[:text_end]"
   ]
  },
  {
   "cell_type": "markdown",
   "metadata": {},
   "source": [
    "## Tokenize"
   ]
  },
  {
   "cell_type": "markdown",
   "metadata": {},
   "source": [
    "### Build 'master' corpus: each holy book is included to analyze common religious themes"
   ]
  },
  {
   "cell_type": "code",
   "execution_count": 13,
   "metadata": {
    "ExecuteTime": {
     "end_time": "2019-12-28T20:48:30.741160Z",
     "start_time": "2019-12-28T20:48:30.727434Z"
    }
   },
   "outputs": [],
   "source": [
    "all_holy_text = [buddha + mormon + old_testament + new_testament + koran] \n",
    "all_holy_text = ' '.join(all_holy_text)"
   ]
  },
  {
   "cell_type": "markdown",
   "metadata": {},
   "source": [
    "#### Clean corpus"
   ]
  },
  {
   "cell_type": "code",
   "execution_count": 14,
   "metadata": {
    "ExecuteTime": {
     "end_time": "2019-12-28T20:48:31.779404Z",
     "start_time": "2019-12-28T20:48:30.745657Z"
    }
   },
   "outputs": [],
   "source": [
    "clean_text = re.sub('[%s]' % re.escape(string.punctuation), ' ', all_holy_text) # remove punctuation\n",
    "clean_text = clean_text.lower() # convert to lower case\n",
    "clean_text = re.sub('\\w*\\dw*', ' ', clean_text) # alphanumerics\n",
    "clean_text = re.sub('[\\r][\\n][\\t]', ' ', clean_text) # remove characters "
   ]
  },
  {
   "cell_type": "markdown",
   "metadata": {
    "ExecuteTime": {
     "end_time": "2019-11-09T23:06:56.968995Z",
     "start_time": "2019-11-09T23:06:56.965459Z"
    }
   },
   "source": [
    "#### Tokenize Corpus"
   ]
  },
  {
   "cell_type": "code",
   "execution_count": 15,
   "metadata": {
    "ExecuteTime": {
     "end_time": "2019-12-28T20:48:35.911551Z",
     "start_time": "2019-12-28T20:48:31.782197Z"
    }
   },
   "outputs": [],
   "source": [
    "clean_tokens = word_tokenize(clean_text)"
   ]
  },
  {
   "cell_type": "markdown",
   "metadata": {},
   "source": [
    "#### Remove old english"
   ]
  },
  {
   "cell_type": "code",
   "execution_count": 16,
   "metadata": {
    "ExecuteTime": {
     "end_time": "2019-12-28T20:48:36.453023Z",
     "start_time": "2019-12-28T20:48:35.914327Z"
    }
   },
   "outputs": [],
   "source": [
    "new_clean_tokens = []\n",
    "    \n",
    "for token in clean_tokens:\n",
    "    if token.endswith('eth'):\n",
    "        new_clean_tokens.append(token[:-4])\n",
    "    else:\n",
    "        new_clean_tokens.append(token)"
   ]
  },
  {
   "cell_type": "markdown",
   "metadata": {},
   "source": [
    "### Build separate corpus': each holy book is its own corpus to identify distinct themes"
   ]
  },
  {
   "cell_type": "markdown",
   "metadata": {},
   "source": [
    "#### Clean each book"
   ]
  },
  {
   "cell_type": "code",
   "execution_count": 17,
   "metadata": {
    "ExecuteTime": {
     "end_time": "2019-12-28T20:48:37.492854Z",
     "start_time": "2019-12-28T20:48:36.455307Z"
    }
   },
   "outputs": [],
   "source": [
    "# basic cleaning of each holy book\n",
    "\n",
    "def clean_text(text):\n",
    "    clean_book = re.sub('[%s]' % re.escape(string.punctuation), ' ', text) # remove punctuation\n",
    "    clean_book = clean_book.lower() # convert to lower case\n",
    "    clean_book = re.sub('\\w*\\dw*', ' ', clean_book) # alphanumerics\n",
    "    clean_book = re.sub('[\\r][\\n][\\t]', ' ', clean_book) # remove characters\n",
    "    \n",
    "    return clean_book\n",
    "\n",
    "clean_buddha = clean_text(buddha)\n",
    "clean_old_testament = clean_text(old_testament)\n",
    "clean_new_testament = clean_text(new_testament)\n",
    "clean_koran = clean_text(koran)\n",
    "clean_mormon = clean_text(mormon)"
   ]
  },
  {
   "cell_type": "markdown",
   "metadata": {},
   "source": [
    "#### Tokenize by book"
   ]
  },
  {
   "cell_type": "code",
   "execution_count": 18,
   "metadata": {
    "ExecuteTime": {
     "end_time": "2019-12-28T20:48:41.821468Z",
     "start_time": "2019-12-28T20:48:37.495045Z"
    },
    "code_folding": []
   },
   "outputs": [],
   "source": [
    "buddha_tokens = word_tokenize(clean_buddha)\n",
    "old_testament_tokens = word_tokenize(clean_old_testament)\n",
    "new_testament_tokens = word_tokenize(clean_new_testament)\n",
    "koran_tokens = word_tokenize(clean_koran)\n",
    "mormon_tokens = word_tokenize(clean_mormon)"
   ]
  },
  {
   "cell_type": "code",
   "execution_count": 19,
   "metadata": {
    "ExecuteTime": {
     "end_time": "2019-12-28T20:48:42.329489Z",
     "start_time": "2019-12-28T20:48:41.825367Z"
    }
   },
   "outputs": [],
   "source": [
    "# Remove old english for more robust sentiment analysis\n",
    "\n",
    "def remove_old_english(l):\n",
    "\n",
    "    new_tokens= []\n",
    "    \n",
    "    for token in l:\n",
    "        if token.endswith('eth'):\n",
    "            new_tokens.append(token[:-4])\n",
    "        else:\n",
    "            new_tokens.append(token)\n",
    "           \n",
    "    return new_tokens\n",
    "            \n",
    "buddha_tokens = remove_old_english(buddha_tokens)\n",
    "old_testament_tokens = remove_old_english(old_testament_tokens)\n",
    "new_testament_tokens = remove_old_english(new_testament_tokens)\n",
    "koran_tokens = remove_old_english(koran_tokens)\n",
    "mormon_tokens = remove_old_english(mormon_tokens)"
   ]
  },
  {
   "cell_type": "markdown",
   "metadata": {},
   "source": [
    "## Lemmatize"
   ]
  },
  {
   "cell_type": "code",
   "execution_count": 20,
   "metadata": {
    "ExecuteTime": {
     "end_time": "2019-12-28T20:48:42.338626Z",
     "start_time": "2019-12-28T20:48:42.332061Z"
    }
   },
   "outputs": [],
   "source": [
    "lemmatizer = WordNetLemmatizer()"
   ]
  },
  {
   "cell_type": "markdown",
   "metadata": {},
   "source": [
    "### Lemmatize entire corpus"
   ]
  },
  {
   "cell_type": "code",
   "execution_count": 21,
   "metadata": {
    "ExecuteTime": {
     "end_time": "2019-12-28T20:48:54.091913Z",
     "start_time": "2019-12-28T20:48:42.343013Z"
    }
   },
   "outputs": [],
   "source": [
    "lemmatized_list = [lemmatizer.lemmatize(word) for word in new_clean_tokens]"
   ]
  },
  {
   "cell_type": "markdown",
   "metadata": {
    "ExecuteTime": {
     "end_time": "2019-11-09T22:05:29.586318Z",
     "start_time": "2019-11-09T22:05:29.582492Z"
    }
   },
   "source": [
    "### Lemmatize By Book"
   ]
  },
  {
   "cell_type": "code",
   "execution_count": 22,
   "metadata": {
    "ExecuteTime": {
     "end_time": "2019-12-28T20:49:02.698340Z",
     "start_time": "2019-12-28T20:48:54.094356Z"
    },
    "code_folding": []
   },
   "outputs": [],
   "source": [
    "def lemmatize(text):\n",
    "    \n",
    "    lemmatized_list_by_book = [lemmatizer.lemmatize(word) for word in text]\n",
    "    return lemmatized_list_by_book\n",
    "\n",
    "lemmatized_buddha_list = lemmatize(buddha_tokens)\n",
    "lemmatized_old_testament_list = lemmatize(old_testament_tokens)\n",
    "lemmatized_new_testament_list = lemmatize(new_testament_tokens)\n",
    "lemmatized_koran_list = lemmatize(koran_tokens)\n",
    "lemmatized_mormon_list = lemmatize(mormon_tokens)"
   ]
  },
  {
   "cell_type": "markdown",
   "metadata": {},
   "source": [
    "## TFIDF"
   ]
  },
  {
   "cell_type": "markdown",
   "metadata": {},
   "source": [
    "### Stop Words"
   ]
  },
  {
   "cell_type": "code",
   "execution_count": 23,
   "metadata": {
    "ExecuteTime": {
     "end_time": "2019-12-28T20:49:02.749449Z",
     "start_time": "2019-12-28T20:49:02.700211Z"
    }
   },
   "outputs": [],
   "source": [
    "# standard english stop words as well as custom old english stop words\n",
    "\n",
    "stop_words = stopwords.words('english')\n",
    "\n",
    "new_stop_words = ['ye', 'thee', 'let', 'thy', 'thou', 'hath', 'unto', 'skt', 'say', 'thing',\n",
    "                  'go', 'come', 'god', 'also', 'lord', 'one', 'buddha', 'jesus', 'christ',\n",
    "                 'nephi', 'muhammad', 'day', 'father', 'son', 'man', 'upon', 'koran',\n",
    "                 'yea', 'men', 'lamanites', 'nephites', 'said', 'moroni', 'uruvela',\n",
    "                 'mosiah', 'helaman', 'xiii', 'xxvi', 'fo', 'pp', 'vv', 'mv', 'iv', 'ii', 'iii',\n",
    "                 'wherefore', 'sb', 'qkm', 'et', 'mpn', 'bst', 'gutenberg', 'project', 'agreement',\n",
    "                 'rhdb', 'xii', 'sec', 'seq', 'matth', 'chd', 'xvii', 'saith', 'hast', 'thus', 'thine',\n",
    "                 'art', 'doth', 'wherefore', 'thither', 'wast', 'hence']"
   ]
  },
  {
   "cell_type": "code",
   "execution_count": 24,
   "metadata": {
    "ExecuteTime": {
     "end_time": "2019-12-28T20:49:02.759775Z",
     "start_time": "2019-12-28T20:49:02.752752Z"
    }
   },
   "outputs": [],
   "source": [
    "stop_words.extend(new_stop_words)"
   ]
  },
  {
   "cell_type": "markdown",
   "metadata": {},
   "source": [
    "### Vectorize 'master' corpus"
   ]
  },
  {
   "cell_type": "code",
   "execution_count": 25,
   "metadata": {
    "ExecuteTime": {
     "end_time": "2019-12-28T20:49:02.866330Z",
     "start_time": "2019-12-28T20:49:02.762936Z"
    }
   },
   "outputs": [],
   "source": [
    "# Document length of 100 characters proved most effective for topic modeling\n",
    "\n",
    "documents = [lemmatized_list[i:i+100] for i in range(0, len(lemmatized_list), 100)]\n",
    "\n",
    "document_list = []\n",
    "\n",
    "for i in documents:\n",
    "    document_list.append(' '.join(i))"
   ]
  },
  {
   "cell_type": "code",
   "execution_count": 26,
   "metadata": {
    "ExecuteTime": {
     "end_time": "2019-12-28T20:49:03.806607Z",
     "start_time": "2019-12-28T20:49:02.868842Z"
    }
   },
   "outputs": [],
   "source": [
    " vectorizer = TfidfVectorizer(stop_words=stop_words, \n",
    "                             strip_accents='ascii', \n",
    "                             max_df=.2,\n",
    "                             min_df=200,\n",
    "                             token_pattern='[a-zA-Z0-9]{3,}')\n",
    "    \n",
    "X_ = vectorizer.fit_transform(document_list)\n",
    "X = pd.DataFrame(X_.toarray(), columns=vectorizer.get_feature_names()) "
   ]
  },
  {
   "cell_type": "code",
   "execution_count": 27,
   "metadata": {
    "ExecuteTime": {
     "end_time": "2019-12-28T20:49:03.818239Z",
     "start_time": "2019-12-28T20:49:03.809027Z"
    }
   },
   "outputs": [],
   "source": [
    "words = vectorizer.get_feature_names()"
   ]
  },
  {
   "cell_type": "markdown",
   "metadata": {},
   "source": [
    "### Vectorize each distinct corpus"
   ]
  },
  {
   "cell_type": "markdown",
   "metadata": {},
   "source": [
    "#### Split up each book into sections"
   ]
  },
  {
   "cell_type": "code",
   "execution_count": 28,
   "metadata": {
    "ExecuteTime": {
     "end_time": "2019-12-28T20:35:49.429254Z",
     "start_time": "2019-12-28T20:35:49.372782Z"
    },
    "code_folding": []
   },
   "outputs": [],
   "source": [
    "# Document length of 100 characters proved most effective for topic modeling\n",
    "\n",
    "buddha_documents = [lemmatized_buddha_list[i:i+100] for i in range(0, len(lemmatized_buddha_list), 100)]\n",
    "old_testament_documents = [lemmatized_old_testament_list[i:i+100] for i in range(0, len(lemmatized_old_testament_list), 100)]\n",
    "new_testament_documents = [lemmatized_new_testament_list[i:i+100] for i in range(0, len(lemmatized_new_testament_list), 100)]\n",
    "koran_documents = [lemmatized_koran_list[i:i+100] for i in range(0, len(lemmatized_koran_list), 100)]\n",
    "mormon_documents = [lemmatized_mormon_list[i:i+100] for i in range(0, len(lemmatized_mormon_list), 100)]"
   ]
  },
  {
   "cell_type": "code",
   "execution_count": 29,
   "metadata": {
    "ExecuteTime": {
     "end_time": "2019-12-28T20:35:49.438652Z",
     "start_time": "2019-12-28T20:35:49.431217Z"
    }
   },
   "outputs": [],
   "source": [
    "document_list_buddha = []\n",
    "for doc in buddha_documents:\n",
    "    document_list_buddha.append(' '.join(doc))"
   ]
  },
  {
   "cell_type": "code",
   "execution_count": 30,
   "metadata": {
    "ExecuteTime": {
     "end_time": "2019-12-28T20:35:49.463301Z",
     "start_time": "2019-12-28T20:35:49.441708Z"
    }
   },
   "outputs": [],
   "source": [
    "document_list_old_testament = []\n",
    "for doc in old_testament_documents:\n",
    "    document_list_old_testament.append(' '.join(doc))"
   ]
  },
  {
   "cell_type": "code",
   "execution_count": 31,
   "metadata": {
    "ExecuteTime": {
     "end_time": "2019-12-28T20:35:49.476610Z",
     "start_time": "2019-12-28T20:35:49.466157Z"
    }
   },
   "outputs": [],
   "source": [
    "document_list_new_testament = []\n",
    "for doc in new_testament_documents:\n",
    "    document_list_new_testament.append(' '.join(doc))\n",
    "\n",
    "document_list_new_testament = document_list_new_testament[:-31] # Remove website endnotes"
   ]
  },
  {
   "cell_type": "code",
   "execution_count": 32,
   "metadata": {
    "ExecuteTime": {
     "end_time": "2019-12-28T20:35:49.490884Z",
     "start_time": "2019-12-28T20:35:49.480062Z"
    }
   },
   "outputs": [],
   "source": [
    "document_list_koran = []\n",
    "for doc in koran_documents:\n",
    "    document_list_koran.append(' '.join(doc))\n",
    "\n",
    "document_list_koran = document_list_koran[:-21] # Remove website endnotes"
   ]
  },
  {
   "cell_type": "code",
   "execution_count": 33,
   "metadata": {
    "ExecuteTime": {
     "end_time": "2019-12-28T20:35:49.506115Z",
     "start_time": "2019-12-28T20:35:49.493536Z"
    }
   },
   "outputs": [],
   "source": [
    "document_list_mormon = []\n",
    "for doc in mormon_documents:\n",
    "    document_list_mormon.append(' '.join(doc))"
   ]
  },
  {
   "cell_type": "markdown",
   "metadata": {},
   "source": [
    "#### Vectorize each holy book"
   ]
  },
  {
   "cell_type": "markdown",
   "metadata": {},
   "source": [
    "##### Gospel of Buddha"
   ]
  },
  {
   "cell_type": "code",
   "execution_count": 34,
   "metadata": {
    "ExecuteTime": {
     "end_time": "2019-12-28T20:35:49.607946Z",
     "start_time": "2019-12-28T20:35:49.508627Z"
    },
    "code_folding": [],
    "scrolled": true
   },
   "outputs": [],
   "source": [
    "vectorizer_buddha = TfidfVectorizer(stop_words=stop_words, \n",
    "                                    strip_accents='ascii', \n",
    "                                    max_df=.25,\n",
    "                                    min_df=20,\n",
    "                                    token_pattern='[a-zA-Z0-9]{3,}')\n",
    "\n",
    "X_buddha_ = vectorizer_buddha.fit_transform(document_list_buddha)\n",
    "X_buddha = pd.DataFrame(X_buddha_.toarray(), columns=vectorizer_buddha.get_feature_names()) "
   ]
  },
  {
   "cell_type": "code",
   "execution_count": 35,
   "metadata": {
    "ExecuteTime": {
     "end_time": "2019-12-28T20:35:49.616910Z",
     "start_time": "2019-12-28T20:35:49.613520Z"
    }
   },
   "outputs": [],
   "source": [
    "buddha_words = vectorizer_buddha.get_feature_names()"
   ]
  },
  {
   "cell_type": "markdown",
   "metadata": {
    "ExecuteTime": {
     "end_time": "2019-11-09T22:26:42.012217Z",
     "start_time": "2019-11-09T22:26:41.918497Z"
    }
   },
   "source": [
    "##### Old Testament"
   ]
  },
  {
   "cell_type": "code",
   "execution_count": 36,
   "metadata": {
    "ExecuteTime": {
     "end_time": "2019-12-28T20:35:50.109318Z",
     "start_time": "2019-12-28T20:35:49.622452Z"
    }
   },
   "outputs": [],
   "source": [
    "vectorizer_old_testament = TfidfVectorizer(stop_words=stop_words, \n",
    "                                           strip_accents='ascii', \n",
    "                                           max_df=.15,\n",
    "                                           min_df=20,\n",
    "                                          token_pattern='[a-zA-Z0-9]{3,}')\n",
    "\n",
    "X_old_testament = vectorizer_old_testament.fit_transform(document_list_old_testament)\n",
    "X_old_testament = pd.DataFrame(X_old_testament.toarray(), columns=vectorizer_old_testament.get_feature_names()) "
   ]
  },
  {
   "cell_type": "code",
   "execution_count": 37,
   "metadata": {
    "ExecuteTime": {
     "end_time": "2019-12-28T20:35:50.120631Z",
     "start_time": "2019-12-28T20:35:50.113529Z"
    }
   },
   "outputs": [],
   "source": [
    "old_testament_words = vectorizer_old_testament.get_feature_names()"
   ]
  },
  {
   "cell_type": "markdown",
   "metadata": {},
   "source": [
    "##### New Testament"
   ]
  },
  {
   "cell_type": "code",
   "execution_count": 38,
   "metadata": {
    "ExecuteTime": {
     "end_time": "2019-12-28T20:35:50.265170Z",
     "start_time": "2019-12-28T20:35:50.124315Z"
    }
   },
   "outputs": [],
   "source": [
    "vectorizer_new_testament = TfidfVectorizer(stop_words=stop_words, \n",
    "                                           strip_accents='ascii', \n",
    "                                           max_df=.1,\n",
    "                                           min_df=20,\n",
    "                                           token_pattern='[a-zA-Z0-9]{3,}')\n",
    "\n",
    "X_new_testament_ = vectorizer_new_testament.fit_transform(document_list_new_testament)\n",
    "X_new_testament = pd.DataFrame(X_new_testament_.toarray(), columns=vectorizer_new_testament.get_feature_names()) "
   ]
  },
  {
   "cell_type": "code",
   "execution_count": 39,
   "metadata": {
    "ExecuteTime": {
     "end_time": "2019-12-28T20:35:50.272849Z",
     "start_time": "2019-12-28T20:35:50.268277Z"
    }
   },
   "outputs": [],
   "source": [
    "new_testament_words = vectorizer_new_testament.get_feature_names()"
   ]
  },
  {
   "cell_type": "markdown",
   "metadata": {},
   "source": [
    "##### Koran"
   ]
  },
  {
   "cell_type": "code",
   "execution_count": 40,
   "metadata": {
    "ExecuteTime": {
     "end_time": "2019-12-28T20:35:50.449187Z",
     "start_time": "2019-12-28T20:35:50.276842Z"
    }
   },
   "outputs": [],
   "source": [
    "vectorizer_koran = TfidfVectorizer(stop_words=stop_words, \n",
    "                                   strip_accents='ascii', \n",
    "                                   max_df=.1,\n",
    "                                   min_df=20,\n",
    "                                   token_pattern='[a-zA-Z0-9]{3,}')\n",
    "\n",
    "X_koran = vectorizer_koran.fit_transform(document_list_koran)\n",
    "X_koran = pd.DataFrame(X_koran.toarray(), columns=vectorizer_koran.get_feature_names()) "
   ]
  },
  {
   "cell_type": "code",
   "execution_count": 41,
   "metadata": {
    "ExecuteTime": {
     "end_time": "2019-12-28T20:35:50.460902Z",
     "start_time": "2019-12-28T20:35:50.452490Z"
    }
   },
   "outputs": [],
   "source": [
    "koran_words = vectorizer_koran.get_feature_names()"
   ]
  },
  {
   "cell_type": "markdown",
   "metadata": {},
   "source": [
    "##### Book of Mormon"
   ]
  },
  {
   "cell_type": "code",
   "execution_count": 42,
   "metadata": {
    "ExecuteTime": {
     "end_time": "2019-12-28T20:35:50.675352Z",
     "start_time": "2019-12-28T20:35:50.463117Z"
    }
   },
   "outputs": [],
   "source": [
    "vectorizer_mormon = TfidfVectorizer(stop_words=stop_words, \n",
    "                                    strip_accents='ascii', \n",
    "                                    max_df=.15,\n",
    "                                    min_df=20,\n",
    "                                    token_pattern='[a-zA-Z0-9]{3,}')\n",
    "X_mormon = vectorizer_mormon.fit_transform(document_list_mormon)\n",
    "X_mormon = pd.DataFrame(X_mormon.toarray(), columns=vectorizer_mormon.get_feature_names()) "
   ]
  },
  {
   "cell_type": "code",
   "execution_count": 43,
   "metadata": {
    "ExecuteTime": {
     "end_time": "2019-12-28T20:35:50.683454Z",
     "start_time": "2019-12-28T20:35:50.677767Z"
    }
   },
   "outputs": [],
   "source": [
    "mormon_words = vectorizer_mormon.get_feature_names()"
   ]
  },
  {
   "cell_type": "markdown",
   "metadata": {},
   "source": [
    "## Topic Modeling"
   ]
  },
  {
   "cell_type": "markdown",
   "metadata": {},
   "source": [
    "### Topic model master corpus"
   ]
  },
  {
   "cell_type": "code",
   "execution_count": 44,
   "metadata": {
    "ExecuteTime": {
     "end_time": "2019-12-28T20:35:52.402831Z",
     "start_time": "2019-12-28T20:35:50.688985Z"
    }
   },
   "outputs": [],
   "source": [
    "model = NMF(n_components=10) # 10 topics\n",
    "W = model.fit_transform(X)\n",
    "H = model.components_"
   ]
  },
  {
   "cell_type": "code",
   "execution_count": 45,
   "metadata": {
    "ExecuteTime": {
     "end_time": "2019-12-28T20:35:52.419599Z",
     "start_time": "2019-12-28T20:35:52.404719Z"
    }
   },
   "outputs": [
    {
     "data": {
      "text/plain": [
       "0    3140\n",
       "9    2807\n",
       "6    1613\n",
       "1    1210\n",
       "3    1030\n",
       "7     953\n",
       "2     826\n",
       "5     764\n",
       "8     635\n",
       "4     582\n",
       "dtype: int64"
      ]
     },
     "execution_count": 45,
     "metadata": {},
     "output_type": "execute_result"
    }
   ],
   "source": [
    "# Inspect relative strength of each topic\n",
    "\n",
    "doc_cluster = W.argmax(axis = 1)\n",
    "pd.Series(doc_cluster).value_counts()"
   ]
  },
  {
   "cell_type": "code",
   "execution_count": 46,
   "metadata": {
    "ExecuteTime": {
     "end_time": "2019-12-28T20:35:52.473885Z",
     "start_time": "2019-12-28T20:35:52.421948Z"
    },
    "scrolled": true
   },
   "outputs": [
    {
     "data": {
      "text/html": [
       "<div>\n",
       "<style scoped>\n",
       "    .dataframe tbody tr th:only-of-type {\n",
       "        vertical-align: middle;\n",
       "    }\n",
       "\n",
       "    .dataframe tbody tr th {\n",
       "        vertical-align: top;\n",
       "    }\n",
       "\n",
       "    .dataframe thead th {\n",
       "        text-align: right;\n",
       "    }\n",
       "</style>\n",
       "<table border=\"1\" class=\"dataframe\">\n",
       "  <thead>\n",
       "    <tr style=\"text-align: right;\">\n",
       "      <th></th>\n",
       "      <th>0</th>\n",
       "      <th>1</th>\n",
       "      <th>2</th>\n",
       "      <th>3</th>\n",
       "      <th>4</th>\n",
       "      <th>5</th>\n",
       "      <th>6</th>\n",
       "      <th>7</th>\n",
       "      <th>8</th>\n",
       "      <th>9</th>\n",
       "      <th>10</th>\n",
       "      <th>11</th>\n",
       "      <th>12</th>\n",
       "      <th>13</th>\n",
       "      <th>14</th>\n",
       "      <th>15</th>\n",
       "      <th>16</th>\n",
       "      <th>17</th>\n",
       "      <th>18</th>\n",
       "      <th>19</th>\n",
       "    </tr>\n",
       "  </thead>\n",
       "  <tbody>\n",
       "    <tr>\n",
       "      <th>0</th>\n",
       "      <td>earth</td>\n",
       "      <td>heaven</td>\n",
       "      <td>good</td>\n",
       "      <td>truth</td>\n",
       "      <td>may</td>\n",
       "      <td>life</td>\n",
       "      <td>heart</td>\n",
       "      <td>evil</td>\n",
       "      <td>like</td>\n",
       "      <td>believe</td>\n",
       "      <td>verily</td>\n",
       "      <td>work</td>\n",
       "      <td>world</td>\n",
       "      <td>yet</td>\n",
       "      <td>fear</td>\n",
       "      <td>way</td>\n",
       "      <td>blessed</td>\n",
       "      <td>made</td>\n",
       "      <td>sign</td>\n",
       "      <td>know</td>\n",
       "    </tr>\n",
       "    <tr>\n",
       "      <th>1</th>\n",
       "      <td>israel</td>\n",
       "      <td>child</td>\n",
       "      <td>moses</td>\n",
       "      <td>tribe</td>\n",
       "      <td>congregation</td>\n",
       "      <td>aaron</td>\n",
       "      <td>spake</td>\n",
       "      <td>among</td>\n",
       "      <td>saying</td>\n",
       "      <td>inheritance</td>\n",
       "      <td>egypt</td>\n",
       "      <td>commanded</td>\n",
       "      <td>according</td>\n",
       "      <td>covenant</td>\n",
       "      <td>pharaoh</td>\n",
       "      <td>family</td>\n",
       "      <td>tabernacle</td>\n",
       "      <td>judah</td>\n",
       "      <td>thousand</td>\n",
       "      <td>name</td>\n",
       "    </tr>\n",
       "    <tr>\n",
       "      <th>2</th>\n",
       "      <td>alma</td>\n",
       "      <td>behold</td>\n",
       "      <td>pas</td>\n",
       "      <td>army</td>\n",
       "      <td>would</td>\n",
       "      <td>began</td>\n",
       "      <td>therefore</td>\n",
       "      <td>church</td>\n",
       "      <td>might</td>\n",
       "      <td>city</td>\n",
       "      <td>many</td>\n",
       "      <td>judge</td>\n",
       "      <td>according</td>\n",
       "      <td>forth</td>\n",
       "      <td>war</td>\n",
       "      <td>brother</td>\n",
       "      <td>great</td>\n",
       "      <td>power</td>\n",
       "      <td>could</td>\n",
       "      <td>exceedingly</td>\n",
       "    </tr>\n",
       "    <tr>\n",
       "      <th>3</th>\n",
       "      <td>king</td>\n",
       "      <td>judah</td>\n",
       "      <td>servant</td>\n",
       "      <td>babylon</td>\n",
       "      <td>israel</td>\n",
       "      <td>year</td>\n",
       "      <td>jerusalem</td>\n",
       "      <td>prince</td>\n",
       "      <td>sent</td>\n",
       "      <td>reign</td>\n",
       "      <td>kingdom</td>\n",
       "      <td>made</td>\n",
       "      <td>hand</td>\n",
       "      <td>answered</td>\n",
       "      <td>book</td>\n",
       "      <td>written</td>\n",
       "      <td>throne</td>\n",
       "      <td>prophet</td>\n",
       "      <td>priest</td>\n",
       "      <td>gold</td>\n",
       "    </tr>\n",
       "    <tr>\n",
       "      <th>4</th>\n",
       "      <td>offering</td>\n",
       "      <td>burnt</td>\n",
       "      <td>priest</td>\n",
       "      <td>altar</td>\n",
       "      <td>offer</td>\n",
       "      <td>sacrifice</td>\n",
       "      <td>sin</td>\n",
       "      <td>meat</td>\n",
       "      <td>fire</td>\n",
       "      <td>aaron</td>\n",
       "      <td>holy</td>\n",
       "      <td>congregation</td>\n",
       "      <td>tabernacle</td>\n",
       "      <td>made</td>\n",
       "      <td>blood</td>\n",
       "      <td>two</td>\n",
       "      <td>thereof</td>\n",
       "      <td>first</td>\n",
       "      <td>peace</td>\n",
       "      <td>year</td>\n",
       "    </tr>\n",
       "    <tr>\n",
       "      <th>5</th>\n",
       "      <td>shalt</td>\n",
       "      <td>make</td>\n",
       "      <td>put</td>\n",
       "      <td>take</td>\n",
       "      <td>hand</td>\n",
       "      <td>eat</td>\n",
       "      <td>neither</td>\n",
       "      <td>thereof</td>\n",
       "      <td>thyself</td>\n",
       "      <td>give</td>\n",
       "      <td>set</td>\n",
       "      <td>wife</td>\n",
       "      <td>daughter</td>\n",
       "      <td>surely</td>\n",
       "      <td>bring</td>\n",
       "      <td>eye</td>\n",
       "      <td>keep</td>\n",
       "      <td>die</td>\n",
       "      <td>place</td>\n",
       "      <td>bread</td>\n",
       "    </tr>\n",
       "    <tr>\n",
       "      <th>6</th>\n",
       "      <td>house</td>\n",
       "      <td>david</td>\n",
       "      <td>city</td>\n",
       "      <td>went</td>\n",
       "      <td>took</td>\n",
       "      <td>jerusalem</td>\n",
       "      <td>hand</td>\n",
       "      <td>judah</td>\n",
       "      <td>two</td>\n",
       "      <td>servant</td>\n",
       "      <td>place</td>\n",
       "      <td>hundred</td>\n",
       "      <td>thousand</td>\n",
       "      <td>brought</td>\n",
       "      <td>made</td>\n",
       "      <td>three</td>\n",
       "      <td>priest</td>\n",
       "      <td>thereof</td>\n",
       "      <td>daughter</td>\n",
       "      <td>gate</td>\n",
       "    </tr>\n",
       "    <tr>\n",
       "      <th>7</th>\n",
       "      <td>land</td>\n",
       "      <td>pas</td>\n",
       "      <td>year</td>\n",
       "      <td>egypt</td>\n",
       "      <td>wilderness</td>\n",
       "      <td>city</td>\n",
       "      <td>many</td>\n",
       "      <td>sea</td>\n",
       "      <td>great</td>\n",
       "      <td>began</td>\n",
       "      <td>forth</td>\n",
       "      <td>face</td>\n",
       "      <td>brought</td>\n",
       "      <td>army</td>\n",
       "      <td>nation</td>\n",
       "      <td>even</td>\n",
       "      <td>exceedingly</td>\n",
       "      <td>pharaoh</td>\n",
       "      <td>among</td>\n",
       "      <td>dwell</td>\n",
       "    </tr>\n",
       "    <tr>\n",
       "      <th>8</th>\n",
       "      <td>sura</td>\n",
       "      <td>see</td>\n",
       "      <td>verse</td>\n",
       "      <td>name</td>\n",
       "      <td>merciful</td>\n",
       "      <td>book</td>\n",
       "      <td>jew</td>\n",
       "      <td>called</td>\n",
       "      <td>prophet</td>\n",
       "      <td>first</td>\n",
       "      <td>year</td>\n",
       "      <td>part</td>\n",
       "      <td>wife</td>\n",
       "      <td>two</td>\n",
       "      <td>may</td>\n",
       "      <td>well</td>\n",
       "      <td>would</td>\n",
       "      <td>angel</td>\n",
       "      <td>whose</td>\n",
       "      <td>word</td>\n",
       "    </tr>\n",
       "    <tr>\n",
       "      <th>9</th>\n",
       "      <td>word</td>\n",
       "      <td>behold</td>\n",
       "      <td>brother</td>\n",
       "      <td>saying</td>\n",
       "      <td>pas</td>\n",
       "      <td>many</td>\n",
       "      <td>know</td>\n",
       "      <td>even</td>\n",
       "      <td>according</td>\n",
       "      <td>speak</td>\n",
       "      <td>prophet</td>\n",
       "      <td>spoken</td>\n",
       "      <td>spake</td>\n",
       "      <td>concerning</td>\n",
       "      <td>jacob</td>\n",
       "      <td>spirit</td>\n",
       "      <td>would</td>\n",
       "      <td>therefore</td>\n",
       "      <td>time</td>\n",
       "      <td>heard</td>\n",
       "    </tr>\n",
       "  </tbody>\n",
       "</table>\n",
       "</div>"
      ],
      "text/plain": [
       "         0       1        2        3             4          5          6   \\\n",
       "0     earth  heaven     good    truth           may       life      heart   \n",
       "1    israel   child    moses    tribe  congregation      aaron      spake   \n",
       "2      alma  behold      pas     army         would      began  therefore   \n",
       "3      king   judah  servant  babylon        israel       year  jerusalem   \n",
       "4  offering   burnt   priest    altar         offer  sacrifice        sin   \n",
       "5     shalt    make      put     take          hand        eat    neither   \n",
       "6     house   david     city     went          took  jerusalem       hand   \n",
       "7      land     pas     year    egypt    wilderness       city       many   \n",
       "8      sura     see    verse     name      merciful       book        jew   \n",
       "9      word  behold  brother   saying           pas       many       know   \n",
       "\n",
       "        7          8            9        10            11          12  \\\n",
       "0     evil       like      believe   verily          work       world   \n",
       "1    among     saying  inheritance    egypt     commanded   according   \n",
       "2   church      might         city     many         judge   according   \n",
       "3   prince       sent        reign  kingdom          made        hand   \n",
       "4     meat       fire        aaron     holy  congregation  tabernacle   \n",
       "5  thereof    thyself         give      set          wife    daughter   \n",
       "6    judah        two      servant    place       hundred    thousand   \n",
       "7      sea      great        began    forth          face     brought   \n",
       "8   called    prophet        first     year          part        wife   \n",
       "9     even  according        speak  prophet        spoken       spake   \n",
       "\n",
       "           13       14       15           16         17        18           19  \n",
       "0         yet     fear      way      blessed       made      sign         know  \n",
       "1    covenant  pharaoh   family   tabernacle      judah  thousand         name  \n",
       "2       forth      war  brother        great      power     could  exceedingly  \n",
       "3    answered     book  written       throne    prophet    priest         gold  \n",
       "4        made    blood      two      thereof      first     peace         year  \n",
       "5      surely    bring      eye         keep        die     place        bread  \n",
       "6     brought     made    three       priest    thereof  daughter         gate  \n",
       "7        army   nation     even  exceedingly    pharaoh     among        dwell  \n",
       "8         two      may     well        would      angel     whose         word  \n",
       "9  concerning    jacob   spirit        would  therefore      time        heard  "
      ]
     },
     "execution_count": 46,
     "metadata": {},
     "output_type": "execute_result"
    }
   ],
   "source": [
    "topic_words = []\n",
    "for r in H:\n",
    "    a = sorted([(v,i) for i,v in enumerate(r)],reverse=True)[0:20] # 20 words per topic, sorted by relevance\n",
    "    topic_words.append([words[e[1]] for e in a])\n",
    "\n",
    "pd.DataFrame(topic_words)"
   ]
  },
  {
   "cell_type": "markdown",
   "metadata": {},
   "source": [
    "### Topic model each distinct corpus "
   ]
  },
  {
   "cell_type": "markdown",
   "metadata": {},
   "source": [
    "#### Gospel of Buddha Topic Modeling"
   ]
  },
  {
   "cell_type": "code",
   "execution_count": 47,
   "metadata": {
    "ExecuteTime": {
     "end_time": "2019-12-28T20:35:52.567286Z",
     "start_time": "2019-12-28T20:35:52.476151Z"
    }
   },
   "outputs": [],
   "source": [
    "model_buddha = NMF(n_components=10)\n",
    "W_buddha = model_buddha.fit_transform(X_buddha)\n",
    "H_buddha = model_buddha.components_"
   ]
  },
  {
   "cell_type": "code",
   "execution_count": 48,
   "metadata": {
    "ExecuteTime": {
     "end_time": "2019-12-28T20:35:52.582326Z",
     "start_time": "2019-12-28T20:35:52.571633Z"
    }
   },
   "outputs": [
    {
     "data": {
      "text/plain": [
       "9    149\n",
       "0    104\n",
       "7    102\n",
       "8     89\n",
       "4     84\n",
       "5     82\n",
       "2     77\n",
       "6     75\n",
       "3     46\n",
       "1     22\n",
       "dtype: int64"
      ]
     },
     "execution_count": 48,
     "metadata": {},
     "output_type": "execute_result"
    }
   ],
   "source": [
    "doc_cluster_buddha = W_buddha.argmax(axis = 1)\n",
    "pd.Series(doc_cluster_buddha).value_counts()"
   ]
  },
  {
   "cell_type": "code",
   "execution_count": 49,
   "metadata": {
    "ExecuteTime": {
     "end_time": "2019-12-28T20:35:52.596660Z",
     "start_time": "2019-12-28T20:35:52.585932Z"
    },
    "scrolled": true
   },
   "outputs": [],
   "source": [
    "topic_words_buddha = []\n",
    "for r in H_buddha:\n",
    "    a = sorted([(v,i) for i,v in enumerate(r)],reverse=True)[0:20]\n",
    "    topic_words_buddha.append([buddha_words[e[1]] for e in a])\n",
    "\n",
    "topic_words_buddha_df = pd.DataFrame(topic_words_buddha)"
   ]
  },
  {
   "cell_type": "code",
   "execution_count": 50,
   "metadata": {
    "ExecuteTime": {
     "end_time": "2019-12-28T20:35:52.634984Z",
     "start_time": "2019-12-28T20:35:52.599256Z"
    }
   },
   "outputs": [
    {
     "data": {
      "text/html": [
       "<div>\n",
       "<style scoped>\n",
       "    .dataframe tbody tr th:only-of-type {\n",
       "        vertical-align: middle;\n",
       "    }\n",
       "\n",
       "    .dataframe tbody tr th {\n",
       "        vertical-align: top;\n",
       "    }\n",
       "\n",
       "    .dataframe thead th {\n",
       "        text-align: right;\n",
       "    }\n",
       "</style>\n",
       "<table border=\"1\" class=\"dataframe\">\n",
       "  <thead>\n",
       "    <tr style=\"text-align: right;\">\n",
       "      <th></th>\n",
       "      <th>0</th>\n",
       "      <th>1</th>\n",
       "      <th>2</th>\n",
       "      <th>3</th>\n",
       "      <th>4</th>\n",
       "      <th>5</th>\n",
       "      <th>6</th>\n",
       "      <th>7</th>\n",
       "      <th>8</th>\n",
       "      <th>9</th>\n",
       "      <th>10</th>\n",
       "      <th>11</th>\n",
       "      <th>12</th>\n",
       "      <th>13</th>\n",
       "      <th>14</th>\n",
       "      <th>15</th>\n",
       "      <th>16</th>\n",
       "      <th>17</th>\n",
       "      <th>18</th>\n",
       "      <th>19</th>\n",
       "    </tr>\n",
       "  </thead>\n",
       "  <tbody>\n",
       "    <tr>\n",
       "      <th>0</th>\n",
       "      <td>life</td>\n",
       "      <td>world</td>\n",
       "      <td>like</td>\n",
       "      <td>mind</td>\n",
       "      <td>pleasure</td>\n",
       "      <td>give</td>\n",
       "      <td>body</td>\n",
       "      <td>heart</td>\n",
       "      <td>death</td>\n",
       "      <td>light</td>\n",
       "      <td>worldly</td>\n",
       "      <td>desire</td>\n",
       "      <td>peace</td>\n",
       "      <td>away</td>\n",
       "      <td>replied</td>\n",
       "      <td>shall</td>\n",
       "      <td>know</td>\n",
       "      <td>wisdom</td>\n",
       "      <td>child</td>\n",
       "      <td>bliss</td>\n",
       "    </tr>\n",
       "    <tr>\n",
       "      <th>1</th>\n",
       "      <td>gospel</td>\n",
       "      <td>source</td>\n",
       "      <td>work</td>\n",
       "      <td>see</td>\n",
       "      <td>righteousness</td>\n",
       "      <td>kind</td>\n",
       "      <td>buddhist</td>\n",
       "      <td>buddhism</td>\n",
       "      <td>religious</td>\n",
       "      <td>heaven</td>\n",
       "      <td>family</td>\n",
       "      <td>together</td>\n",
       "      <td>different</td>\n",
       "      <td>order</td>\n",
       "      <td>state</td>\n",
       "      <td>soul</td>\n",
       "      <td>time</td>\n",
       "      <td>made</td>\n",
       "      <td>present</td>\n",
       "      <td>spiritual</td>\n",
       "    </tr>\n",
       "    <tr>\n",
       "      <th>2</th>\n",
       "      <td>self</td>\n",
       "      <td>soul</td>\n",
       "      <td>ego</td>\n",
       "      <td>illusion</td>\n",
       "      <td>cause</td>\n",
       "      <td>would</td>\n",
       "      <td>error</td>\n",
       "      <td>mind</td>\n",
       "      <td>thought</td>\n",
       "      <td>body</td>\n",
       "      <td>kutadanta</td>\n",
       "      <td>existence</td>\n",
       "      <td>teach</td>\n",
       "      <td>selfishness</td>\n",
       "      <td>nature</td>\n",
       "      <td>others</td>\n",
       "      <td>righteousness</td>\n",
       "      <td>without</td>\n",
       "      <td>deed</td>\n",
       "      <td>see</td>\n",
       "    </tr>\n",
       "    <tr>\n",
       "      <th>3</th>\n",
       "      <td>ananda</td>\n",
       "      <td>venerable</td>\n",
       "      <td>tathagata</td>\n",
       "      <td>water</td>\n",
       "      <td>body</td>\n",
       "      <td>addressed</td>\n",
       "      <td>order</td>\n",
       "      <td>brother</td>\n",
       "      <td>time</td>\n",
       "      <td>away</td>\n",
       "      <td>may</td>\n",
       "      <td>year</td>\n",
       "      <td>saying</td>\n",
       "      <td>must</td>\n",
       "      <td>remain</td>\n",
       "      <td>spread</td>\n",
       "      <td>lamp</td>\n",
       "      <td>tree</td>\n",
       "      <td>robe</td>\n",
       "      <td>near</td>\n",
       "    </tr>\n",
       "    <tr>\n",
       "      <th>4</th>\n",
       "      <td>name</td>\n",
       "      <td>brahman</td>\n",
       "      <td>form</td>\n",
       "      <td>buddhist</td>\n",
       "      <td>called</td>\n",
       "      <td>buddhism</td>\n",
       "      <td>see</td>\n",
       "      <td>term</td>\n",
       "      <td>tree</td>\n",
       "      <td>gotama</td>\n",
       "      <td>brahma</td>\n",
       "      <td>great</td>\n",
       "      <td>kassapa</td>\n",
       "      <td>word</td>\n",
       "      <td>city</td>\n",
       "      <td>friend</td>\n",
       "      <td>chief</td>\n",
       "      <td>family</td>\n",
       "      <td>river</td>\n",
       "      <td>known</td>\n",
       "    </tr>\n",
       "    <tr>\n",
       "      <th>5</th>\n",
       "      <td>king</td>\n",
       "      <td>prince</td>\n",
       "      <td>siddhattha</td>\n",
       "      <td>kingdom</td>\n",
       "      <td>royal</td>\n",
       "      <td>went</td>\n",
       "      <td>young</td>\n",
       "      <td>great</td>\n",
       "      <td>place</td>\n",
       "      <td>hatred</td>\n",
       "      <td>heart</td>\n",
       "      <td>came</td>\n",
       "      <td>hand</td>\n",
       "      <td>sent</td>\n",
       "      <td>time</td>\n",
       "      <td>became</td>\n",
       "      <td>back</td>\n",
       "      <td>food</td>\n",
       "      <td>took</td>\n",
       "      <td>heard</td>\n",
       "    </tr>\n",
       "    <tr>\n",
       "      <th>6</th>\n",
       "      <td>brother</td>\n",
       "      <td>bhikkhus</td>\n",
       "      <td>went</td>\n",
       "      <td>long</td>\n",
       "      <td>bhikkhu</td>\n",
       "      <td>food</td>\n",
       "      <td>saying</td>\n",
       "      <td>place</td>\n",
       "      <td>robe</td>\n",
       "      <td>sangha</td>\n",
       "      <td>may</td>\n",
       "      <td>order</td>\n",
       "      <td>addressed</td>\n",
       "      <td>foot</td>\n",
       "      <td>took</td>\n",
       "      <td>grove</td>\n",
       "      <td>keep</td>\n",
       "      <td>house</td>\n",
       "      <td>entered</td>\n",
       "      <td>side</td>\n",
       "    </tr>\n",
       "    <tr>\n",
       "      <th>7</th>\n",
       "      <td>evil</td>\n",
       "      <td>good</td>\n",
       "      <td>deed</td>\n",
       "      <td>wrong</td>\n",
       "      <td>hatred</td>\n",
       "      <td>karma</td>\n",
       "      <td>fruit</td>\n",
       "      <td>mara</td>\n",
       "      <td>action</td>\n",
       "      <td>shall</td>\n",
       "      <td>thought</td>\n",
       "      <td>death</td>\n",
       "      <td>word</td>\n",
       "      <td>water</td>\n",
       "      <td>done</td>\n",
       "      <td>pain</td>\n",
       "      <td>love</td>\n",
       "      <td>overcome</td>\n",
       "      <td>passion</td>\n",
       "      <td>doe</td>\n",
       "    </tr>\n",
       "    <tr>\n",
       "      <th>8</th>\n",
       "      <td>path</td>\n",
       "      <td>noble</td>\n",
       "      <td>right</td>\n",
       "      <td>suffering</td>\n",
       "      <td>walk</td>\n",
       "      <td>eightfold</td>\n",
       "      <td>lead</td>\n",
       "      <td>four</td>\n",
       "      <td>thought</td>\n",
       "      <td>salvation</td>\n",
       "      <td>brahman</td>\n",
       "      <td>way</td>\n",
       "      <td>sorrow</td>\n",
       "      <td>brahma</td>\n",
       "      <td>wisdom</td>\n",
       "      <td>mind</td>\n",
       "      <td>righteousness</td>\n",
       "      <td>soul</td>\n",
       "      <td>light</td>\n",
       "      <td>immortality</td>\n",
       "    </tr>\n",
       "    <tr>\n",
       "      <th>9</th>\n",
       "      <td>disciple</td>\n",
       "      <td>doctrine</td>\n",
       "      <td>tathagata</td>\n",
       "      <td>dharma</td>\n",
       "      <td>refuge</td>\n",
       "      <td>great</td>\n",
       "      <td>law</td>\n",
       "      <td>holy</td>\n",
       "      <td>kassapa</td>\n",
       "      <td>take</td>\n",
       "      <td>sangha</td>\n",
       "      <td>teacher</td>\n",
       "      <td>first</td>\n",
       "      <td>time</td>\n",
       "      <td>faith</td>\n",
       "      <td>receive</td>\n",
       "      <td>may</td>\n",
       "      <td>teach</td>\n",
       "      <td>preach</td>\n",
       "      <td>many</td>\n",
       "    </tr>\n",
       "  </tbody>\n",
       "</table>\n",
       "</div>"
      ],
      "text/plain": [
       "         0          1           2          3              4          5   \\\n",
       "0      life      world        like       mind       pleasure       give   \n",
       "1    gospel     source        work        see  righteousness       kind   \n",
       "2      self       soul         ego   illusion          cause      would   \n",
       "3    ananda  venerable   tathagata      water           body  addressed   \n",
       "4      name    brahman        form   buddhist         called   buddhism   \n",
       "5      king     prince  siddhattha    kingdom          royal       went   \n",
       "6   brother   bhikkhus        went       long        bhikkhu       food   \n",
       "7      evil       good        deed      wrong         hatred      karma   \n",
       "8      path      noble       right  suffering           walk  eightfold   \n",
       "9  disciple   doctrine   tathagata     dharma         refuge      great   \n",
       "\n",
       "         6         7          8          9          10         11         12  \\\n",
       "0      body     heart      death      light    worldly     desire      peace   \n",
       "1  buddhist  buddhism  religious     heaven     family   together  different   \n",
       "2     error      mind    thought       body  kutadanta  existence      teach   \n",
       "3     order   brother       time       away        may       year     saying   \n",
       "4       see      term       tree     gotama     brahma      great    kassapa   \n",
       "5     young     great      place     hatred      heart       came       hand   \n",
       "6    saying     place       robe     sangha        may      order  addressed   \n",
       "7     fruit      mara     action      shall    thought      death       word   \n",
       "8      lead      four    thought  salvation    brahman        way     sorrow   \n",
       "9       law      holy    kassapa       take     sangha    teacher      first   \n",
       "\n",
       "            13       14       15             16        17       18  \\\n",
       "0         away  replied    shall           know    wisdom    child   \n",
       "1        order    state     soul           time      made  present   \n",
       "2  selfishness   nature   others  righteousness   without     deed   \n",
       "3         must   remain   spread           lamp      tree     robe   \n",
       "4         word     city   friend          chief    family    river   \n",
       "5         sent     time   became           back      food     took   \n",
       "6         foot     took    grove           keep     house  entered   \n",
       "7        water     done     pain           love  overcome  passion   \n",
       "8       brahma   wisdom     mind  righteousness      soul    light   \n",
       "9         time    faith  receive            may     teach   preach   \n",
       "\n",
       "            19  \n",
       "0        bliss  \n",
       "1    spiritual  \n",
       "2          see  \n",
       "3         near  \n",
       "4        known  \n",
       "5        heard  \n",
       "6         side  \n",
       "7          doe  \n",
       "8  immortality  \n",
       "9         many  "
      ]
     },
     "execution_count": 50,
     "metadata": {},
     "output_type": "execute_result"
    }
   ],
   "source": [
    "topic_words_buddha_df"
   ]
  },
  {
   "cell_type": "markdown",
   "metadata": {},
   "source": [
    "#### Old Testament Topic Modeling"
   ]
  },
  {
   "cell_type": "code",
   "execution_count": 51,
   "metadata": {
    "ExecuteTime": {
     "end_time": "2019-12-28T20:35:55.028822Z",
     "start_time": "2019-12-28T20:35:52.641421Z"
    }
   },
   "outputs": [],
   "source": [
    "model_old_testament = NMF(n_components=10)\n",
    "W_old_testament = model_old_testament.fit_transform(X_old_testament)\n",
    "H_old_testament = model_old_testament.components_"
   ]
  },
  {
   "cell_type": "code",
   "execution_count": 52,
   "metadata": {
    "ExecuteTime": {
     "end_time": "2019-12-28T20:35:55.045825Z",
     "start_time": "2019-12-28T20:35:55.032210Z"
    }
   },
   "outputs": [
    {
     "data": {
      "text/plain": [
       "7    1302\n",
       "8     792\n",
       "0     780\n",
       "6     623\n",
       "9     583\n",
       "5     455\n",
       "4     439\n",
       "3     419\n",
       "2     375\n",
       "1     344\n",
       "dtype: int64"
      ]
     },
     "execution_count": 52,
     "metadata": {},
     "output_type": "execute_result"
    }
   ],
   "source": [
    "doc_cluster_old_testament = W_old_testament.argmax(axis = 1)\n",
    "pd.Series(doc_cluster_old_testament).value_counts()"
   ]
  },
  {
   "cell_type": "code",
   "execution_count": 53,
   "metadata": {
    "ExecuteTime": {
     "end_time": "2019-12-28T20:35:55.110221Z",
     "start_time": "2019-12-28T20:35:55.047914Z"
    }
   },
   "outputs": [
    {
     "data": {
      "text/html": [
       "<div>\n",
       "<style scoped>\n",
       "    .dataframe tbody tr th:only-of-type {\n",
       "        vertical-align: middle;\n",
       "    }\n",
       "\n",
       "    .dataframe tbody tr th {\n",
       "        vertical-align: top;\n",
       "    }\n",
       "\n",
       "    .dataframe thead th {\n",
       "        text-align: right;\n",
       "    }\n",
       "</style>\n",
       "<table border=\"1\" class=\"dataframe\">\n",
       "  <thead>\n",
       "    <tr style=\"text-align: right;\">\n",
       "      <th></th>\n",
       "      <th>0</th>\n",
       "      <th>1</th>\n",
       "      <th>2</th>\n",
       "      <th>3</th>\n",
       "      <th>4</th>\n",
       "      <th>5</th>\n",
       "      <th>6</th>\n",
       "      <th>7</th>\n",
       "      <th>8</th>\n",
       "      <th>9</th>\n",
       "      <th>...</th>\n",
       "      <th>20</th>\n",
       "      <th>21</th>\n",
       "      <th>22</th>\n",
       "      <th>23</th>\n",
       "      <th>24</th>\n",
       "      <th>25</th>\n",
       "      <th>26</th>\n",
       "      <th>27</th>\n",
       "      <th>28</th>\n",
       "      <th>29</th>\n",
       "    </tr>\n",
       "  </thead>\n",
       "  <tbody>\n",
       "    <tr>\n",
       "      <th>0</th>\n",
       "      <td>earth</td>\n",
       "      <td>water</td>\n",
       "      <td>heaven</td>\n",
       "      <td>like</td>\n",
       "      <td>thereof</td>\n",
       "      <td>every</td>\n",
       "      <td>forth</td>\n",
       "      <td>made</td>\n",
       "      <td>nation</td>\n",
       "      <td>great</td>\n",
       "      <td>...</td>\n",
       "      <td>among</td>\n",
       "      <td>high</td>\n",
       "      <td>set</td>\n",
       "      <td>river</td>\n",
       "      <td>brought</td>\n",
       "      <td>voice</td>\n",
       "      <td>work</td>\n",
       "      <td>cut</td>\n",
       "      <td>eat</td>\n",
       "      <td>face</td>\n",
       "    </tr>\n",
       "    <tr>\n",
       "      <th>1</th>\n",
       "      <td>offering</td>\n",
       "      <td>burnt</td>\n",
       "      <td>offer</td>\n",
       "      <td>priest</td>\n",
       "      <td>altar</td>\n",
       "      <td>sin</td>\n",
       "      <td>meat</td>\n",
       "      <td>lamb</td>\n",
       "      <td>sacrifice</td>\n",
       "      <td>ram</td>\n",
       "      <td>...</td>\n",
       "      <td>shekel</td>\n",
       "      <td>offered</td>\n",
       "      <td>blemish</td>\n",
       "      <td>drink</td>\n",
       "      <td>made</td>\n",
       "      <td>sweet</td>\n",
       "      <td>without</td>\n",
       "      <td>trespass</td>\n",
       "      <td>flour</td>\n",
       "      <td>savour</td>\n",
       "    </tr>\n",
       "    <tr>\n",
       "      <th>2</th>\n",
       "      <td>hundred</td>\n",
       "      <td>thousand</td>\n",
       "      <td>two</td>\n",
       "      <td>twenty</td>\n",
       "      <td>five</td>\n",
       "      <td>three</td>\n",
       "      <td>cubit</td>\n",
       "      <td>four</td>\n",
       "      <td>gold</td>\n",
       "      <td>numbered</td>\n",
       "      <td>...</td>\n",
       "      <td>forty</td>\n",
       "      <td>captain</td>\n",
       "      <td>year</td>\n",
       "      <td>thereof</td>\n",
       "      <td>threescore</td>\n",
       "      <td>number</td>\n",
       "      <td>eight</td>\n",
       "      <td>war</td>\n",
       "      <td>breadth</td>\n",
       "      <td>chief</td>\n",
       "    </tr>\n",
       "    <tr>\n",
       "      <th>3</th>\n",
       "      <td>david</td>\n",
       "      <td>saul</td>\n",
       "      <td>philistine</td>\n",
       "      <td>servant</td>\n",
       "      <td>went</td>\n",
       "      <td>jonathan</td>\n",
       "      <td>samuel</td>\n",
       "      <td>sent</td>\n",
       "      <td>ark</td>\n",
       "      <td>abner</td>\n",
       "      <td>...</td>\n",
       "      <td>saw</td>\n",
       "      <td>slew</td>\n",
       "      <td>brought</td>\n",
       "      <td>pas</td>\n",
       "      <td>jesse</td>\n",
       "      <td>fled</td>\n",
       "      <td>captain</td>\n",
       "      <td>messenger</td>\n",
       "      <td>abiathar</td>\n",
       "      <td>nathan</td>\n",
       "    </tr>\n",
       "    <tr>\n",
       "      <th>4</th>\n",
       "      <td>shalt</td>\n",
       "      <td>make</td>\n",
       "      <td>eat</td>\n",
       "      <td>put</td>\n",
       "      <td>take</td>\n",
       "      <td>neither</td>\n",
       "      <td>may</td>\n",
       "      <td>bring</td>\n",
       "      <td>stranger</td>\n",
       "      <td>thyself</td>\n",
       "      <td>...</td>\n",
       "      <td>bread</td>\n",
       "      <td>fruit</td>\n",
       "      <td>keep</td>\n",
       "      <td>blood</td>\n",
       "      <td>observe</td>\n",
       "      <td>thereof</td>\n",
       "      <td>holy</td>\n",
       "      <td>choose</td>\n",
       "      <td>bear</td>\n",
       "      <td>saying</td>\n",
       "    </tr>\n",
       "    <tr>\n",
       "      <th>5</th>\n",
       "      <td>moses</td>\n",
       "      <td>aaron</td>\n",
       "      <td>congregation</td>\n",
       "      <td>spake</td>\n",
       "      <td>tabernacle</td>\n",
       "      <td>saying</td>\n",
       "      <td>commanded</td>\n",
       "      <td>egypt</td>\n",
       "      <td>pharaoh</td>\n",
       "      <td>according</td>\n",
       "      <td>...</td>\n",
       "      <td>brought</td>\n",
       "      <td>word</td>\n",
       "      <td>among</td>\n",
       "      <td>holy</td>\n",
       "      <td>may</td>\n",
       "      <td>rod</td>\n",
       "      <td>commandment</td>\n",
       "      <td>ark</td>\n",
       "      <td>wilderness</td>\n",
       "      <td>every</td>\n",
       "    </tr>\n",
       "    <tr>\n",
       "      <th>6</th>\n",
       "      <td>year</td>\n",
       "      <td>judah</td>\n",
       "      <td>jerusalem</td>\n",
       "      <td>reigned</td>\n",
       "      <td>reign</td>\n",
       "      <td>babylon</td>\n",
       "      <td>began</td>\n",
       "      <td>book</td>\n",
       "      <td>jeremiah</td>\n",
       "      <td>word</td>\n",
       "      <td>...</td>\n",
       "      <td>made</td>\n",
       "      <td>act</td>\n",
       "      <td>josiah</td>\n",
       "      <td>samaria</td>\n",
       "      <td>asa</td>\n",
       "      <td>chronicle</td>\n",
       "      <td>zedekiah</td>\n",
       "      <td>rest</td>\n",
       "      <td>jehoshaphat</td>\n",
       "      <td>buried</td>\n",
       "    </tr>\n",
       "    <tr>\n",
       "      <th>7</th>\n",
       "      <td>heart</td>\n",
       "      <td>way</td>\n",
       "      <td>mine</td>\n",
       "      <td>word</td>\n",
       "      <td>wicked</td>\n",
       "      <td>soul</td>\n",
       "      <td>good</td>\n",
       "      <td>evil</td>\n",
       "      <td>mouth</td>\n",
       "      <td>eye</td>\n",
       "      <td>...</td>\n",
       "      <td>speak</td>\n",
       "      <td>keep</td>\n",
       "      <td>yet</td>\n",
       "      <td>righteousness</td>\n",
       "      <td>wisdom</td>\n",
       "      <td>enemy</td>\n",
       "      <td>ever</td>\n",
       "      <td>servant</td>\n",
       "      <td>wise</td>\n",
       "      <td>life</td>\n",
       "    </tr>\n",
       "    <tr>\n",
       "      <th>8</th>\n",
       "      <td>brother</td>\n",
       "      <td>wife</td>\n",
       "      <td>jacob</td>\n",
       "      <td>daughter</td>\n",
       "      <td>joseph</td>\n",
       "      <td>name</td>\n",
       "      <td>egypt</td>\n",
       "      <td>pharaoh</td>\n",
       "      <td>went</td>\n",
       "      <td>abraham</td>\n",
       "      <td>...</td>\n",
       "      <td>mother</td>\n",
       "      <td>begat</td>\n",
       "      <td>brought</td>\n",
       "      <td>take</td>\n",
       "      <td>pray</td>\n",
       "      <td>gave</td>\n",
       "      <td>laban</td>\n",
       "      <td>saying</td>\n",
       "      <td>canaan</td>\n",
       "      <td>seed</td>\n",
       "    </tr>\n",
       "    <tr>\n",
       "      <th>9</th>\n",
       "      <td>city</td>\n",
       "      <td>tribe</td>\n",
       "      <td>inheritance</td>\n",
       "      <td>family</td>\n",
       "      <td>joshua</td>\n",
       "      <td>suburb</td>\n",
       "      <td>border</td>\n",
       "      <td>side</td>\n",
       "      <td>jordan</td>\n",
       "      <td>went</td>\n",
       "      <td>...</td>\n",
       "      <td>took</td>\n",
       "      <td>dwelt</td>\n",
       "      <td>gilead</td>\n",
       "      <td>bashan</td>\n",
       "      <td>mount</td>\n",
       "      <td>south</td>\n",
       "      <td>levite</td>\n",
       "      <td>plain</td>\n",
       "      <td>valley</td>\n",
       "      <td>dwell</td>\n",
       "    </tr>\n",
       "  </tbody>\n",
       "</table>\n",
       "<p>10 rows × 30 columns</p>\n",
       "</div>"
      ],
      "text/plain": [
       "         0         1             2         3           4         5   \\\n",
       "0     earth     water        heaven      like     thereof     every   \n",
       "1  offering     burnt         offer    priest       altar       sin   \n",
       "2   hundred  thousand           two    twenty        five     three   \n",
       "3     david      saul    philistine   servant        went  jonathan   \n",
       "4     shalt      make           eat       put        take   neither   \n",
       "5     moses     aaron  congregation     spake  tabernacle    saying   \n",
       "6      year     judah     jerusalem   reigned       reign   babylon   \n",
       "7     heart       way          mine      word      wicked      soul   \n",
       "8   brother      wife         jacob  daughter      joseph      name   \n",
       "9      city     tribe   inheritance    family      joshua    suburb   \n",
       "\n",
       "          6        7          8          9    ...         20       21  \\\n",
       "0      forth     made     nation      great   ...      among     high   \n",
       "1       meat     lamb  sacrifice        ram   ...     shekel  offered   \n",
       "2      cubit     four       gold   numbered   ...      forty  captain   \n",
       "3     samuel     sent        ark      abner   ...        saw     slew   \n",
       "4        may    bring   stranger    thyself   ...      bread    fruit   \n",
       "5  commanded    egypt    pharaoh  according   ...    brought     word   \n",
       "6      began     book   jeremiah       word   ...       made      act   \n",
       "7       good     evil      mouth        eye   ...      speak     keep   \n",
       "8      egypt  pharaoh       went    abraham   ...     mother    begat   \n",
       "9     border     side     jordan       went   ...       took    dwelt   \n",
       "\n",
       "        22             23          24         25           26         27  \\\n",
       "0      set          river     brought      voice         work        cut   \n",
       "1  blemish          drink        made      sweet      without   trespass   \n",
       "2     year        thereof  threescore     number        eight        war   \n",
       "3  brought            pas       jesse       fled      captain  messenger   \n",
       "4     keep          blood     observe    thereof         holy     choose   \n",
       "5    among           holy         may        rod  commandment        ark   \n",
       "6   josiah        samaria         asa  chronicle     zedekiah       rest   \n",
       "7      yet  righteousness      wisdom      enemy         ever    servant   \n",
       "8  brought           take        pray       gave        laban     saying   \n",
       "9   gilead         bashan       mount      south       levite      plain   \n",
       "\n",
       "            28      29  \n",
       "0          eat    face  \n",
       "1        flour  savour  \n",
       "2      breadth   chief  \n",
       "3     abiathar  nathan  \n",
       "4         bear  saying  \n",
       "5   wilderness   every  \n",
       "6  jehoshaphat  buried  \n",
       "7         wise    life  \n",
       "8       canaan    seed  \n",
       "9       valley   dwell  \n",
       "\n",
       "[10 rows x 30 columns]"
      ]
     },
     "execution_count": 53,
     "metadata": {},
     "output_type": "execute_result"
    }
   ],
   "source": [
    "topic_words_old_testament = []\n",
    "for r in H_old_testament:\n",
    "    a = sorted([(v,i) for i,v in enumerate(r)],reverse=True)[0:30]\n",
    "    topic_words_old_testament.append([old_testament_words[e[1]] for e in a])\n",
    "\n",
    "pd.DataFrame(topic_words_old_testament)"
   ]
  },
  {
   "cell_type": "markdown",
   "metadata": {},
   "source": [
    "#### New Testament Topic Modeling"
   ]
  },
  {
   "cell_type": "code",
   "execution_count": 54,
   "metadata": {
    "ExecuteTime": {
     "end_time": "2019-12-28T20:35:55.682878Z",
     "start_time": "2019-12-28T20:35:55.115782Z"
    }
   },
   "outputs": [],
   "source": [
    "model_new_testament = NMF(n_components=10)\n",
    "W_new_testament = model_new_testament.fit_transform(X_new_testament)\n",
    "H_new_testament = model_new_testament.components_"
   ]
  },
  {
   "cell_type": "code",
   "execution_count": 55,
   "metadata": {
    "ExecuteTime": {
     "end_time": "2019-12-28T20:35:55.699146Z",
     "start_time": "2019-12-28T20:35:55.686112Z"
    }
   },
   "outputs": [
    {
     "data": {
      "text/plain": [
       "1    287\n",
       "7    198\n",
       "0    193\n",
       "4    183\n",
       "8    180\n",
       "9    174\n",
       "3    162\n",
       "5    153\n",
       "6    129\n",
       "2    118\n",
       "dtype: int64"
      ]
     },
     "execution_count": 55,
     "metadata": {},
     "output_type": "execute_result"
    }
   ],
   "source": [
    "doc_cluster_new_testament = W_new_testament.argmax(axis = 1)\n",
    "pd.Series(doc_cluster_new_testament).value_counts()"
   ]
  },
  {
   "cell_type": "code",
   "execution_count": 56,
   "metadata": {
    "ExecuteTime": {
     "end_time": "2019-12-28T20:35:55.753028Z",
     "start_time": "2019-12-28T20:35:55.703867Z"
    }
   },
   "outputs": [
    {
     "data": {
      "text/html": [
       "<div>\n",
       "<style scoped>\n",
       "    .dataframe tbody tr th:only-of-type {\n",
       "        vertical-align: middle;\n",
       "    }\n",
       "\n",
       "    .dataframe tbody tr th {\n",
       "        vertical-align: top;\n",
       "    }\n",
       "\n",
       "    .dataframe thead th {\n",
       "        text-align: right;\n",
       "    }\n",
       "</style>\n",
       "<table border=\"1\" class=\"dataframe\">\n",
       "  <thead>\n",
       "    <tr style=\"text-align: right;\">\n",
       "      <th></th>\n",
       "      <th>0</th>\n",
       "      <th>1</th>\n",
       "      <th>2</th>\n",
       "      <th>3</th>\n",
       "      <th>4</th>\n",
       "      <th>5</th>\n",
       "      <th>6</th>\n",
       "      <th>7</th>\n",
       "      <th>8</th>\n",
       "      <th>9</th>\n",
       "      <th>10</th>\n",
       "      <th>11</th>\n",
       "      <th>12</th>\n",
       "      <th>13</th>\n",
       "      <th>14</th>\n",
       "      <th>15</th>\n",
       "      <th>16</th>\n",
       "      <th>17</th>\n",
       "      <th>18</th>\n",
       "      <th>19</th>\n",
       "    </tr>\n",
       "  </thead>\n",
       "  <tbody>\n",
       "    <tr>\n",
       "      <th>0</th>\n",
       "      <td>cast</td>\n",
       "      <td>forth</td>\n",
       "      <td>devil</td>\n",
       "      <td>way</td>\n",
       "      <td>kingdom</td>\n",
       "      <td>away</td>\n",
       "      <td>child</td>\n",
       "      <td>house</td>\n",
       "      <td>hear</td>\n",
       "      <td>eye</td>\n",
       "      <td>fruit</td>\n",
       "      <td>pas</td>\n",
       "      <td>place</td>\n",
       "      <td>enter</td>\n",
       "      <td>parable</td>\n",
       "      <td>time</td>\n",
       "      <td>multitude</td>\n",
       "      <td>sea</td>\n",
       "      <td>ship</td>\n",
       "      <td>brought</td>\n",
       "    </tr>\n",
       "    <tr>\n",
       "      <th>1</th>\n",
       "      <td>love</td>\n",
       "      <td>grace</td>\n",
       "      <td>glory</td>\n",
       "      <td>according</td>\n",
       "      <td>holy</td>\n",
       "      <td>another</td>\n",
       "      <td>peace</td>\n",
       "      <td>gospel</td>\n",
       "      <td>heart</td>\n",
       "      <td>saint</td>\n",
       "      <td>church</td>\n",
       "      <td>amen</td>\n",
       "      <td>evil</td>\n",
       "      <td>beloved</td>\n",
       "      <td>hope</td>\n",
       "      <td>joy</td>\n",
       "      <td>ever</td>\n",
       "      <td>work</td>\n",
       "      <td>power</td>\n",
       "      <td>toward</td>\n",
       "    </tr>\n",
       "    <tr>\n",
       "      <th>2</th>\n",
       "      <td>law</td>\n",
       "      <td>sin</td>\n",
       "      <td>righteousness</td>\n",
       "      <td>flesh</td>\n",
       "      <td>without</td>\n",
       "      <td>death</td>\n",
       "      <td>work</td>\n",
       "      <td>justified</td>\n",
       "      <td>abraham</td>\n",
       "      <td>written</td>\n",
       "      <td>promise</td>\n",
       "      <td>blood</td>\n",
       "      <td>circumcision</td>\n",
       "      <td>free</td>\n",
       "      <td>life</td>\n",
       "      <td>moses</td>\n",
       "      <td>commit</td>\n",
       "      <td>commandment</td>\n",
       "      <td>judge</td>\n",
       "      <td>forbid</td>\n",
       "    </tr>\n",
       "    <tr>\n",
       "      <th>3</th>\n",
       "      <td>paul</td>\n",
       "      <td>jew</td>\n",
       "      <td>city</td>\n",
       "      <td>certain</td>\n",
       "      <td>jerusalem</td>\n",
       "      <td>brought</td>\n",
       "      <td>departed</td>\n",
       "      <td>would</td>\n",
       "      <td>barnabas</td>\n",
       "      <td>believed</td>\n",
       "      <td>gentile</td>\n",
       "      <td>asia</td>\n",
       "      <td>synagogue</td>\n",
       "      <td>greek</td>\n",
       "      <td>together</td>\n",
       "      <td>took</td>\n",
       "      <td>named</td>\n",
       "      <td>commanded</td>\n",
       "      <td>church</td>\n",
       "      <td>apostle</td>\n",
       "    </tr>\n",
       "    <tr>\n",
       "      <th>4</th>\n",
       "      <td>earth</td>\n",
       "      <td>angel</td>\n",
       "      <td>voice</td>\n",
       "      <td>seven</td>\n",
       "      <td>beast</td>\n",
       "      <td>power</td>\n",
       "      <td>throne</td>\n",
       "      <td>four</td>\n",
       "      <td>fire</td>\n",
       "      <td>name</td>\n",
       "      <td>loud</td>\n",
       "      <td>sea</td>\n",
       "      <td>king</td>\n",
       "      <td>thousand</td>\n",
       "      <td>lamb</td>\n",
       "      <td>mouth</td>\n",
       "      <td>woman</td>\n",
       "      <td>blood</td>\n",
       "      <td>like</td>\n",
       "      <td>book</td>\n",
       "    </tr>\n",
       "    <tr>\n",
       "      <th>5</th>\n",
       "      <td>peter</td>\n",
       "      <td>simon</td>\n",
       "      <td>john</td>\n",
       "      <td>james</td>\n",
       "      <td>ghost</td>\n",
       "      <td>holy</td>\n",
       "      <td>baptized</td>\n",
       "      <td>spake</td>\n",
       "      <td>stood</td>\n",
       "      <td>answered</td>\n",
       "      <td>philip</td>\n",
       "      <td>began</td>\n",
       "      <td>house</td>\n",
       "      <td>immediately</td>\n",
       "      <td>mary</td>\n",
       "      <td>elia</td>\n",
       "      <td>juda</td>\n",
       "      <td>tell</td>\n",
       "      <td>whose</td>\n",
       "      <td>galilee</td>\n",
       "    </tr>\n",
       "    <tr>\n",
       "      <th>6</th>\n",
       "      <td>priest</td>\n",
       "      <td>chief</td>\n",
       "      <td>high</td>\n",
       "      <td>pilate</td>\n",
       "      <td>answered</td>\n",
       "      <td>king</td>\n",
       "      <td>temple</td>\n",
       "      <td>elder</td>\n",
       "      <td>scribe</td>\n",
       "      <td>witness</td>\n",
       "      <td>jew</td>\n",
       "      <td>pharisee</td>\n",
       "      <td>put</td>\n",
       "      <td>asked</td>\n",
       "      <td>delivered</td>\n",
       "      <td>council</td>\n",
       "      <td>death</td>\n",
       "      <td>captain</td>\n",
       "      <td>led</td>\n",
       "      <td>away</td>\n",
       "    </tr>\n",
       "    <tr>\n",
       "      <th>7</th>\n",
       "      <td>eat</td>\n",
       "      <td>servant</td>\n",
       "      <td>bread</td>\n",
       "      <td>took</td>\n",
       "      <td>drink</td>\n",
       "      <td>give</td>\n",
       "      <td>gave</td>\n",
       "      <td>meat</td>\n",
       "      <td>five</td>\n",
       "      <td>neither</td>\n",
       "      <td>two</td>\n",
       "      <td>take</td>\n",
       "      <td>make</td>\n",
       "      <td>verily</td>\n",
       "      <td>house</td>\n",
       "      <td>sit</td>\n",
       "      <td>master</td>\n",
       "      <td>another</td>\n",
       "      <td>twelve</td>\n",
       "      <td>cup</td>\n",
       "    </tr>\n",
       "    <tr>\n",
       "      <th>8</th>\n",
       "      <td>body</td>\n",
       "      <td>dead</td>\n",
       "      <td>wife</td>\n",
       "      <td>put</td>\n",
       "      <td>raised</td>\n",
       "      <td>flesh</td>\n",
       "      <td>husband</td>\n",
       "      <td>woman</td>\n",
       "      <td>resurrection</td>\n",
       "      <td>live</td>\n",
       "      <td>mother</td>\n",
       "      <td>member</td>\n",
       "      <td>head</td>\n",
       "      <td>child</td>\n",
       "      <td>death</td>\n",
       "      <td>sepulchre</td>\n",
       "      <td>mary</td>\n",
       "      <td>yet</td>\n",
       "      <td>new</td>\n",
       "      <td>another</td>\n",
       "    </tr>\n",
       "    <tr>\n",
       "      <th>9</th>\n",
       "      <td>world</td>\n",
       "      <td>believe</td>\n",
       "      <td>sent</td>\n",
       "      <td>life</td>\n",
       "      <td>light</td>\n",
       "      <td>truth</td>\n",
       "      <td>speak</td>\n",
       "      <td>name</td>\n",
       "      <td>belie</td>\n",
       "      <td>witness</td>\n",
       "      <td>loved</td>\n",
       "      <td>keep</td>\n",
       "      <td>seen</td>\n",
       "      <td>spoken</td>\n",
       "      <td>eternal</td>\n",
       "      <td>known</td>\n",
       "      <td>darkness</td>\n",
       "      <td>little</td>\n",
       "      <td>given</td>\n",
       "      <td>yet</td>\n",
       "    </tr>\n",
       "  </tbody>\n",
       "</table>\n",
       "</div>"
      ],
      "text/plain": [
       "       0        1              2          3          4        5         6   \\\n",
       "0    cast    forth          devil        way    kingdom     away     child   \n",
       "1    love    grace          glory  according       holy  another     peace   \n",
       "2     law      sin  righteousness      flesh    without    death      work   \n",
       "3    paul      jew           city    certain  jerusalem  brought  departed   \n",
       "4   earth    angel          voice      seven      beast    power    throne   \n",
       "5   peter    simon           john      james      ghost     holy  baptized   \n",
       "6  priest    chief           high     pilate   answered     king    temple   \n",
       "7     eat  servant          bread       took      drink     give      gave   \n",
       "8    body     dead           wife        put     raised    flesh   husband   \n",
       "9   world  believe           sent       life      light    truth     speak   \n",
       "\n",
       "          7             8         9        10        11            12  \\\n",
       "0      house          hear       eye    fruit       pas         place   \n",
       "1     gospel         heart     saint   church      amen          evil   \n",
       "2  justified       abraham   written  promise     blood  circumcision   \n",
       "3      would      barnabas  believed  gentile      asia     synagogue   \n",
       "4       four          fire      name     loud       sea          king   \n",
       "5      spake         stood  answered   philip     began         house   \n",
       "6      elder        scribe   witness      jew  pharisee           put   \n",
       "7       meat          five   neither      two      take          make   \n",
       "8      woman  resurrection      live   mother    member          head   \n",
       "9       name         belie   witness    loved      keep          seen   \n",
       "\n",
       "            13         14         15         16           17      18       19  \n",
       "0        enter    parable       time  multitude          sea    ship  brought  \n",
       "1      beloved       hope        joy       ever         work   power   toward  \n",
       "2         free       life      moses     commit  commandment   judge   forbid  \n",
       "3        greek   together       took      named    commanded  church  apostle  \n",
       "4     thousand       lamb      mouth      woman        blood    like     book  \n",
       "5  immediately       mary       elia       juda         tell   whose  galilee  \n",
       "6        asked  delivered    council      death      captain     led     away  \n",
       "7       verily      house        sit     master      another  twelve      cup  \n",
       "8        child      death  sepulchre       mary          yet     new  another  \n",
       "9       spoken    eternal      known   darkness       little   given      yet  "
      ]
     },
     "execution_count": 56,
     "metadata": {},
     "output_type": "execute_result"
    }
   ],
   "source": [
    "topic_words_new_testament = []\n",
    "for r in H_new_testament:\n",
    "    a = sorted([(v,i) for i,v in enumerate(r)],reverse=True)[0:20]\n",
    "    topic_words_new_testament.append([new_testament_words[e[1]] for e in a])\n",
    "\n",
    "pd.DataFrame(topic_words_new_testament)"
   ]
  },
  {
   "cell_type": "markdown",
   "metadata": {},
   "source": [
    "#### Koran Topic Modeling"
   ]
  },
  {
   "cell_type": "code",
   "execution_count": 57,
   "metadata": {
    "ExecuteTime": {
     "end_time": "2019-12-28T20:35:56.174765Z",
     "start_time": "2019-12-28T20:35:55.756513Z"
    }
   },
   "outputs": [],
   "source": [
    "model_koran = NMF(n_components=10)\n",
    "W_koran = model_koran.fit_transform(X_koran)\n",
    "H_koran = model_koran.components_"
   ]
  },
  {
   "cell_type": "code",
   "execution_count": 58,
   "metadata": {
    "ExecuteTime": {
     "end_time": "2019-12-28T20:35:56.191197Z",
     "start_time": "2019-12-28T20:35:56.176455Z"
    }
   },
   "outputs": [
    {
     "data": {
      "text/plain": [
       "0    305\n",
       "8    297\n",
       "6    259\n",
       "1    258\n",
       "3    174\n",
       "2    174\n",
       "9    150\n",
       "5    143\n",
       "4    136\n",
       "7    134\n",
       "dtype: int64"
      ]
     },
     "execution_count": 58,
     "metadata": {},
     "output_type": "execute_result"
    }
   ],
   "source": [
    "doc_cluster_koran = W_koran.argmax(axis = 1)\n",
    "pd.Series(doc_cluster_koran).value_counts()"
   ]
  },
  {
   "cell_type": "code",
   "execution_count": 59,
   "metadata": {
    "ExecuteTime": {
     "end_time": "2019-12-28T20:35:56.245072Z",
     "start_time": "2019-12-28T20:35:56.195418Z"
    }
   },
   "outputs": [
    {
     "data": {
      "text/html": [
       "<div>\n",
       "<style scoped>\n",
       "    .dataframe tbody tr th:only-of-type {\n",
       "        vertical-align: middle;\n",
       "    }\n",
       "\n",
       "    .dataframe tbody tr th {\n",
       "        vertical-align: top;\n",
       "    }\n",
       "\n",
       "    .dataframe thead th {\n",
       "        text-align: right;\n",
       "    }\n",
       "</style>\n",
       "<table border=\"1\" class=\"dataframe\">\n",
       "  <thead>\n",
       "    <tr style=\"text-align: right;\">\n",
       "      <th></th>\n",
       "      <th>0</th>\n",
       "      <th>1</th>\n",
       "      <th>2</th>\n",
       "      <th>3</th>\n",
       "      <th>4</th>\n",
       "      <th>5</th>\n",
       "      <th>6</th>\n",
       "      <th>7</th>\n",
       "      <th>8</th>\n",
       "      <th>9</th>\n",
       "      <th>10</th>\n",
       "      <th>11</th>\n",
       "      <th>12</th>\n",
       "      <th>13</th>\n",
       "      <th>14</th>\n",
       "      <th>15</th>\n",
       "      <th>16</th>\n",
       "      <th>17</th>\n",
       "      <th>18</th>\n",
       "      <th>19</th>\n",
       "    </tr>\n",
       "  </thead>\n",
       "  <tbody>\n",
       "    <tr>\n",
       "      <th>0</th>\n",
       "      <td>kno</td>\n",
       "      <td>know</td>\n",
       "      <td>mercy</td>\n",
       "      <td>surely</td>\n",
       "      <td>back</td>\n",
       "      <td>knowledge</td>\n",
       "      <td>evil</td>\n",
       "      <td>turn</td>\n",
       "      <td>punishment</td>\n",
       "      <td>heart</td>\n",
       "      <td>follow</td>\n",
       "      <td>lie</td>\n",
       "      <td>none</td>\n",
       "      <td>ask</td>\n",
       "      <td>best</td>\n",
       "      <td>away</td>\n",
       "      <td>guidance</td>\n",
       "      <td>turned</td>\n",
       "      <td>secret</td>\n",
       "      <td>warning</td>\n",
       "    </tr>\n",
       "    <tr>\n",
       "      <th>1</th>\n",
       "      <td>jew</td>\n",
       "      <td>christian</td>\n",
       "      <td>word</td>\n",
       "      <td>first</td>\n",
       "      <td>prophet</td>\n",
       "      <td>medina</td>\n",
       "      <td>time</td>\n",
       "      <td>passage</td>\n",
       "      <td>tradition</td>\n",
       "      <td>however</td>\n",
       "      <td>islam</td>\n",
       "      <td>part</td>\n",
       "      <td>year</td>\n",
       "      <td>probably</td>\n",
       "      <td>scripture</td>\n",
       "      <td>muslim</td>\n",
       "      <td>jewish</td>\n",
       "      <td>etc</td>\n",
       "      <td>period</td>\n",
       "      <td>later</td>\n",
       "    </tr>\n",
       "    <tr>\n",
       "      <th>2</th>\n",
       "      <td>moses</td>\n",
       "      <td>pharaoh</td>\n",
       "      <td>child</td>\n",
       "      <td>came</td>\n",
       "      <td>israel</td>\n",
       "      <td>gave</td>\n",
       "      <td>cast</td>\n",
       "      <td>aaron</td>\n",
       "      <td>land</td>\n",
       "      <td>old</td>\n",
       "      <td>sea</td>\n",
       "      <td>city</td>\n",
       "      <td>noble</td>\n",
       "      <td>surely</td>\n",
       "      <td>took</td>\n",
       "      <td>brother</td>\n",
       "      <td>host</td>\n",
       "      <td>truly</td>\n",
       "      <td>might</td>\n",
       "      <td>order</td>\n",
       "    </tr>\n",
       "    <tr>\n",
       "      <th>3</th>\n",
       "      <td>therein</td>\n",
       "      <td>ever</td>\n",
       "      <td>fire</td>\n",
       "      <td>garden</td>\n",
       "      <td>abide</td>\n",
       "      <td>river</td>\n",
       "      <td>flow</td>\n",
       "      <td>hell</td>\n",
       "      <td>whose</td>\n",
       "      <td>right</td>\n",
       "      <td>paradise</td>\n",
       "      <td>evil</td>\n",
       "      <td>enter</td>\n",
       "      <td>recompense</td>\n",
       "      <td>beneath</td>\n",
       "      <td>believed</td>\n",
       "      <td>torment</td>\n",
       "      <td>inmate</td>\n",
       "      <td>abode</td>\n",
       "      <td>reward</td>\n",
       "    </tr>\n",
       "    <tr>\n",
       "      <th>4</th>\n",
       "      <td>name</td>\n",
       "      <td>mecca</td>\n",
       "      <td>compassionate</td>\n",
       "      <td>medina</td>\n",
       "      <td>warning</td>\n",
       "      <td>wise</td>\n",
       "      <td>praise</td>\n",
       "      <td>whose</td>\n",
       "      <td>night</td>\n",
       "      <td>mighty</td>\n",
       "      <td>angel</td>\n",
       "      <td>like</td>\n",
       "      <td>beidh</td>\n",
       "      <td>revealed</td>\n",
       "      <td>djinn</td>\n",
       "      <td>koreisch</td>\n",
       "      <td>perhaps</td>\n",
       "      <td>meccans</td>\n",
       "      <td>allusion</td>\n",
       "      <td>themoud</td>\n",
       "    </tr>\n",
       "    <tr>\n",
       "      <th>5</th>\n",
       "      <td>wife</td>\n",
       "      <td>woman</td>\n",
       "      <td>prophet</td>\n",
       "      <td>leave</td>\n",
       "      <td>two</td>\n",
       "      <td>slave</td>\n",
       "      <td>wise</td>\n",
       "      <td>family</td>\n",
       "      <td>brother</td>\n",
       "      <td>give</td>\n",
       "      <td>believing</td>\n",
       "      <td>knowing</td>\n",
       "      <td>hand</td>\n",
       "      <td>child</td>\n",
       "      <td>except</td>\n",
       "      <td>given</td>\n",
       "      <td>faithful</td>\n",
       "      <td>mother</td>\n",
       "      <td>daughter</td>\n",
       "      <td>well</td>\n",
       "    </tr>\n",
       "    <tr>\n",
       "      <th>6</th>\n",
       "      <td>forth</td>\n",
       "      <td>created</td>\n",
       "      <td>night</td>\n",
       "      <td>dead</td>\n",
       "      <td>power</td>\n",
       "      <td>set</td>\n",
       "      <td>water</td>\n",
       "      <td>eat</td>\n",
       "      <td>like</td>\n",
       "      <td>creation</td>\n",
       "      <td>sun</td>\n",
       "      <td>rain</td>\n",
       "      <td>tree</td>\n",
       "      <td>cause</td>\n",
       "      <td>sen</td>\n",
       "      <td>every</td>\n",
       "      <td>cau</td>\n",
       "      <td>fruit</td>\n",
       "      <td>moon</td>\n",
       "      <td>drink</td>\n",
       "    </tr>\n",
       "    <tr>\n",
       "      <th>7</th>\n",
       "      <td>lit</td>\n",
       "      <td>comp</td>\n",
       "      <td>gen</td>\n",
       "      <td>etc</td>\n",
       "      <td>according</td>\n",
       "      <td>mar</td>\n",
       "      <td>midr</td>\n",
       "      <td>fol</td>\n",
       "      <td>word</td>\n",
       "      <td>beidh</td>\n",
       "      <td>vii</td>\n",
       "      <td>xxi</td>\n",
       "      <td>lxviii</td>\n",
       "      <td>note</td>\n",
       "      <td>probably</td>\n",
       "      <td>passage</td>\n",
       "      <td>xci</td>\n",
       "      <td>commentator</td>\n",
       "      <td>xxxvii</td>\n",
       "      <td>text</td>\n",
       "    </tr>\n",
       "    <tr>\n",
       "      <th>8</th>\n",
       "      <td>infidel</td>\n",
       "      <td>believer</td>\n",
       "      <td>witness</td>\n",
       "      <td>prayer</td>\n",
       "      <td>take</td>\n",
       "      <td>way</td>\n",
       "      <td>give</td>\n",
       "      <td>alms</td>\n",
       "      <td>observe</td>\n",
       "      <td>right</td>\n",
       "      <td>cause</td>\n",
       "      <td>religion</td>\n",
       "      <td>hand</td>\n",
       "      <td>war</td>\n",
       "      <td>faith</td>\n",
       "      <td>find</td>\n",
       "      <td>faithful</td>\n",
       "      <td>fight</td>\n",
       "      <td>path</td>\n",
       "      <td>pay</td>\n",
       "    </tr>\n",
       "    <tr>\n",
       "      <th>9</th>\n",
       "      <td>worship</td>\n",
       "      <td>beside</td>\n",
       "      <td>call</td>\n",
       "      <td>abraham</td>\n",
       "      <td>neither</td>\n",
       "      <td>religion</td>\n",
       "      <td>help</td>\n",
       "      <td>join</td>\n",
       "      <td>hurt</td>\n",
       "      <td>clear</td>\n",
       "      <td>till</td>\n",
       "      <td>praise</td>\n",
       "      <td>aught</td>\n",
       "      <td>world</td>\n",
       "      <td>gone</td>\n",
       "      <td>revealed</td>\n",
       "      <td>deity</td>\n",
       "      <td>faith</td>\n",
       "      <td>servant</td>\n",
       "      <td>sincere</td>\n",
       "    </tr>\n",
       "  </tbody>\n",
       "</table>\n",
       "</div>"
      ],
      "text/plain": [
       "        0          1              2        3          4          5       6   \\\n",
       "0      kno       know          mercy   surely       back  knowledge    evil   \n",
       "1      jew  christian           word    first    prophet     medina    time   \n",
       "2    moses    pharaoh          child     came     israel       gave    cast   \n",
       "3  therein       ever           fire   garden      abide      river    flow   \n",
       "4     name      mecca  compassionate   medina    warning       wise  praise   \n",
       "5     wife      woman        prophet    leave        two      slave    wise   \n",
       "6    forth    created          night     dead      power        set   water   \n",
       "7      lit       comp            gen      etc  according        mar    midr   \n",
       "8  infidel   believer        witness   prayer       take        way    give   \n",
       "9  worship     beside           call  abraham    neither   religion    help   \n",
       "\n",
       "        7           8         9          10        11      12          13  \\\n",
       "0     turn  punishment     heart     follow       lie    none         ask   \n",
       "1  passage   tradition   however      islam      part    year    probably   \n",
       "2    aaron        land       old        sea      city   noble      surely   \n",
       "3     hell       whose     right   paradise      evil   enter  recompense   \n",
       "4    whose       night    mighty      angel      like   beidh    revealed   \n",
       "5   family     brother      give  believing   knowing    hand       child   \n",
       "6      eat        like  creation        sun      rain    tree       cause   \n",
       "7      fol        word     beidh        vii       xxi  lxviii        note   \n",
       "8     alms     observe     right      cause  religion    hand         war   \n",
       "9     join        hurt     clear       till    praise   aught       world   \n",
       "\n",
       "          14        15        16           17        18       19  \n",
       "0       best      away  guidance       turned    secret  warning  \n",
       "1  scripture    muslim    jewish          etc    period    later  \n",
       "2       took   brother      host        truly     might    order  \n",
       "3    beneath  believed   torment       inmate     abode   reward  \n",
       "4      djinn  koreisch   perhaps      meccans  allusion  themoud  \n",
       "5     except     given  faithful       mother  daughter     well  \n",
       "6        sen     every       cau        fruit      moon    drink  \n",
       "7   probably   passage       xci  commentator    xxxvii     text  \n",
       "8      faith      find  faithful        fight      path      pay  \n",
       "9       gone  revealed     deity        faith   servant  sincere  "
      ]
     },
     "execution_count": 59,
     "metadata": {},
     "output_type": "execute_result"
    }
   ],
   "source": [
    "topic_words_koran = []\n",
    "for r in H_koran:\n",
    "    a = sorted([(v,i) for i,v in enumerate(r)],reverse=True)[0:20]\n",
    "    topic_words_koran.append([koran_words[e[1]] for e in a])\n",
    "\n",
    "pd.DataFrame(topic_words_koran)"
   ]
  },
  {
   "cell_type": "markdown",
   "metadata": {},
   "source": [
    "#### Book of Mormon Topic Modeling"
   ]
  },
  {
   "cell_type": "code",
   "execution_count": 60,
   "metadata": {
    "ExecuteTime": {
     "end_time": "2019-12-28T20:35:56.777202Z",
     "start_time": "2019-12-28T20:35:56.249436Z"
    }
   },
   "outputs": [],
   "source": [
    "model_mormon = NMF(n_components=10)\n",
    "W_mormon = model_mormon.fit_transform(X_mormon)\n",
    "H_mormon = model_mormon.components_"
   ]
  },
  {
   "cell_type": "code",
   "execution_count": 61,
   "metadata": {
    "ExecuteTime": {
     "end_time": "2019-12-28T20:35:56.794822Z",
     "start_time": "2019-12-28T20:35:56.779010Z"
    }
   },
   "outputs": [
    {
     "data": {
      "text/plain": [
       "0    716\n",
       "1    414\n",
       "7    405\n",
       "3    233\n",
       "6    223\n",
       "8    207\n",
       "2    168\n",
       "5    162\n",
       "4    122\n",
       "9    111\n",
       "dtype: int64"
      ]
     },
     "execution_count": 61,
     "metadata": {},
     "output_type": "execute_result"
    }
   ],
   "source": [
    "doc_cluster_mormon = W_mormon.argmax(axis = 1)\n",
    "pd.Series(doc_cluster_mormon).value_counts()"
   ]
  },
  {
   "cell_type": "code",
   "execution_count": 62,
   "metadata": {
    "ExecuteTime": {
     "end_time": "2019-12-28T20:35:56.844691Z",
     "start_time": "2019-12-28T20:35:56.801669Z"
    }
   },
   "outputs": [
    {
     "data": {
      "text/html": [
       "<div>\n",
       "<style scoped>\n",
       "    .dataframe tbody tr th:only-of-type {\n",
       "        vertical-align: middle;\n",
       "    }\n",
       "\n",
       "    .dataframe tbody tr th {\n",
       "        vertical-align: top;\n",
       "    }\n",
       "\n",
       "    .dataframe thead th {\n",
       "        text-align: right;\n",
       "    }\n",
       "</style>\n",
       "<table border=\"1\" class=\"dataframe\">\n",
       "  <thead>\n",
       "    <tr style=\"text-align: right;\">\n",
       "      <th></th>\n",
       "      <th>0</th>\n",
       "      <th>1</th>\n",
       "      <th>2</th>\n",
       "      <th>3</th>\n",
       "      <th>4</th>\n",
       "      <th>5</th>\n",
       "      <th>6</th>\n",
       "      <th>7</th>\n",
       "      <th>8</th>\n",
       "      <th>9</th>\n",
       "      <th>10</th>\n",
       "      <th>11</th>\n",
       "      <th>12</th>\n",
       "      <th>13</th>\n",
       "      <th>14</th>\n",
       "      <th>15</th>\n",
       "      <th>16</th>\n",
       "      <th>17</th>\n",
       "      <th>18</th>\n",
       "      <th>19</th>\n",
       "    </tr>\n",
       "  </thead>\n",
       "  <tbody>\n",
       "    <tr>\n",
       "      <th>0</th>\n",
       "      <td>may</td>\n",
       "      <td>know</td>\n",
       "      <td>heart</td>\n",
       "      <td>spirit</td>\n",
       "      <td>holy</td>\n",
       "      <td>power</td>\n",
       "      <td>faith</td>\n",
       "      <td>believe</td>\n",
       "      <td>must</td>\n",
       "      <td>child</td>\n",
       "      <td>spoken</td>\n",
       "      <td>sin</td>\n",
       "      <td>work</td>\n",
       "      <td>soul</td>\n",
       "      <td>death</td>\n",
       "      <td>good</td>\n",
       "      <td>time</td>\n",
       "      <td>name</td>\n",
       "      <td>law</td>\n",
       "      <td>repent</td>\n",
       "    </tr>\n",
       "    <tr>\n",
       "      <th>1</th>\n",
       "      <td>wilderness</td>\n",
       "      <td>army</td>\n",
       "      <td>might</td>\n",
       "      <td>hand</td>\n",
       "      <td>war</td>\n",
       "      <td>sword</td>\n",
       "      <td>together</td>\n",
       "      <td>battle</td>\n",
       "      <td>slain</td>\n",
       "      <td>exceedingly</td>\n",
       "      <td>take</td>\n",
       "      <td>insomuch</td>\n",
       "      <td>took</td>\n",
       "      <td>zarahemla</td>\n",
       "      <td>number</td>\n",
       "      <td>border</td>\n",
       "      <td>began</td>\n",
       "      <td>sent</td>\n",
       "      <td>time</td>\n",
       "      <td>slay</td>\n",
       "    </tr>\n",
       "    <tr>\n",
       "      <th>2</th>\n",
       "      <td>ether</td>\n",
       "      <td>jared</td>\n",
       "      <td>coriantumr</td>\n",
       "      <td>begat</td>\n",
       "      <td>kingdom</td>\n",
       "      <td>face</td>\n",
       "      <td>daughter</td>\n",
       "      <td>battle</td>\n",
       "      <td>began</td>\n",
       "      <td>captivity</td>\n",
       "      <td>old</td>\n",
       "      <td>gave</td>\n",
       "      <td>faith</td>\n",
       "      <td>stead</td>\n",
       "      <td>show</td>\n",
       "      <td>earth</td>\n",
       "      <td>exceedingly</td>\n",
       "      <td>dwelt</td>\n",
       "      <td>manner</td>\n",
       "      <td>prophet</td>\n",
       "    </tr>\n",
       "    <tr>\n",
       "      <th>3</th>\n",
       "      <td>year</td>\n",
       "      <td>judge</td>\n",
       "      <td>reign</td>\n",
       "      <td>ended</td>\n",
       "      <td>peace</td>\n",
       "      <td>began</td>\n",
       "      <td>twenty</td>\n",
       "      <td>law</td>\n",
       "      <td>passed</td>\n",
       "      <td>away</td>\n",
       "      <td>war</td>\n",
       "      <td>hundred</td>\n",
       "      <td>first</td>\n",
       "      <td>contention</td>\n",
       "      <td>commencement</td>\n",
       "      <td>thirty</td>\n",
       "      <td>chapter</td>\n",
       "      <td>chief</td>\n",
       "      <td>ninth</td>\n",
       "      <td>forty</td>\n",
       "    </tr>\n",
       "    <tr>\n",
       "      <th>4</th>\n",
       "      <td>city</td>\n",
       "      <td>possession</td>\n",
       "      <td>army</td>\n",
       "      <td>prisoner</td>\n",
       "      <td>round</td>\n",
       "      <td>march</td>\n",
       "      <td>teancum</td>\n",
       "      <td>taken</td>\n",
       "      <td>ammonihah</td>\n",
       "      <td>lehi</td>\n",
       "      <td>maintain</td>\n",
       "      <td>thereof</td>\n",
       "      <td>inhabitant</td>\n",
       "      <td>wall</td>\n",
       "      <td>place</td>\n",
       "      <td>caused</td>\n",
       "      <td>saw</td>\n",
       "      <td>built</td>\n",
       "      <td>part</td>\n",
       "      <td>zarahemla</td>\n",
       "    </tr>\n",
       "    <tr>\n",
       "      <th>5</th>\n",
       "      <td>jacob</td>\n",
       "      <td>vineyard</td>\n",
       "      <td>fruit</td>\n",
       "      <td>tree</td>\n",
       "      <td>branch</td>\n",
       "      <td>thereof</td>\n",
       "      <td>servant</td>\n",
       "      <td>natural</td>\n",
       "      <td>root</td>\n",
       "      <td>good</td>\n",
       "      <td>wild</td>\n",
       "      <td>brought</td>\n",
       "      <td>nourished</td>\n",
       "      <td>cast</td>\n",
       "      <td>may</td>\n",
       "      <td>fire</td>\n",
       "      <td>mine</td>\n",
       "      <td>much</td>\n",
       "      <td>season</td>\n",
       "      <td>away</td>\n",
       "    </tr>\n",
       "    <tr>\n",
       "      <th>6</th>\n",
       "      <td>king</td>\n",
       "      <td>ammon</td>\n",
       "      <td>servant</td>\n",
       "      <td>lamoni</td>\n",
       "      <td>limhi</td>\n",
       "      <td>went</td>\n",
       "      <td>flock</td>\n",
       "      <td>prison</td>\n",
       "      <td>amalickiah</td>\n",
       "      <td>noah</td>\n",
       "      <td>aaron</td>\n",
       "      <td>benjamin</td>\n",
       "      <td>caused</td>\n",
       "      <td>began</td>\n",
       "      <td>desire</td>\n",
       "      <td>commanded</td>\n",
       "      <td>together</td>\n",
       "      <td>slay</td>\n",
       "      <td>concerning</td>\n",
       "      <td>told</td>\n",
       "    </tr>\n",
       "    <tr>\n",
       "      <th>7</th>\n",
       "      <td>house</td>\n",
       "      <td>israel</td>\n",
       "      <td>gentile</td>\n",
       "      <td>seed</td>\n",
       "      <td>earth</td>\n",
       "      <td>covenant</td>\n",
       "      <td>jew</td>\n",
       "      <td>nation</td>\n",
       "      <td>made</td>\n",
       "      <td>remnant</td>\n",
       "      <td>spake</td>\n",
       "      <td>lamb</td>\n",
       "      <td>jerusalem</td>\n",
       "      <td>beheld</td>\n",
       "      <td>scattered</td>\n",
       "      <td>concerning</td>\n",
       "      <td>written</td>\n",
       "      <td>prophet</td>\n",
       "      <td>face</td>\n",
       "      <td>angel</td>\n",
       "    </tr>\n",
       "    <tr>\n",
       "      <th>8</th>\n",
       "      <td>church</td>\n",
       "      <td>began</td>\n",
       "      <td>priest</td>\n",
       "      <td>name</td>\n",
       "      <td>pride</td>\n",
       "      <td>belong</td>\n",
       "      <td>manner</td>\n",
       "      <td>teacher</td>\n",
       "      <td>baptized</td>\n",
       "      <td>preach</td>\n",
       "      <td>lifted</td>\n",
       "      <td>called</td>\n",
       "      <td>heart</td>\n",
       "      <td>throughout</td>\n",
       "      <td>high</td>\n",
       "      <td>every</td>\n",
       "      <td>establish</td>\n",
       "      <td>iniquity</td>\n",
       "      <td>much</td>\n",
       "      <td>wickedness</td>\n",
       "    </tr>\n",
       "    <tr>\n",
       "      <th>9</th>\n",
       "      <td>mormon</td>\n",
       "      <td>record</td>\n",
       "      <td>plate</td>\n",
       "      <td>hundred</td>\n",
       "      <td>write</td>\n",
       "      <td>written</td>\n",
       "      <td>three</td>\n",
       "      <td>battle</td>\n",
       "      <td>stand</td>\n",
       "      <td>passed</td>\n",
       "      <td>kno</td>\n",
       "      <td>driven</td>\n",
       "      <td>make</td>\n",
       "      <td>year</td>\n",
       "      <td>miracle</td>\n",
       "      <td>speak</td>\n",
       "      <td>take</td>\n",
       "      <td>face</td>\n",
       "      <td>water</td>\n",
       "      <td>blood</td>\n",
       "    </tr>\n",
       "  </tbody>\n",
       "</table>\n",
       "</div>"
      ],
      "text/plain": [
       "           0           1           2         3        4         5         6   \\\n",
       "0         may        know       heart    spirit     holy     power     faith   \n",
       "1  wilderness        army       might      hand      war     sword  together   \n",
       "2       ether       jared  coriantumr     begat  kingdom      face  daughter   \n",
       "3        year       judge       reign     ended    peace     began    twenty   \n",
       "4        city  possession        army  prisoner    round     march   teancum   \n",
       "5       jacob    vineyard       fruit      tree   branch   thereof   servant   \n",
       "6        king       ammon     servant    lamoni    limhi      went     flock   \n",
       "7       house      israel     gentile      seed    earth  covenant       jew   \n",
       "8      church       began      priest      name    pride    belong    manner   \n",
       "9      mormon      record       plate   hundred    write   written     three   \n",
       "\n",
       "        7           8            9         10        11          12  \\\n",
       "0  believe        must        child    spoken       sin        work   \n",
       "1   battle       slain  exceedingly      take  insomuch        took   \n",
       "2   battle       began    captivity       old      gave       faith   \n",
       "3      law      passed         away       war   hundred       first   \n",
       "4    taken   ammonihah         lehi  maintain   thereof  inhabitant   \n",
       "5  natural        root         good      wild   brought   nourished   \n",
       "6   prison  amalickiah         noah     aaron  benjamin      caused   \n",
       "7   nation        made      remnant     spake      lamb   jerusalem   \n",
       "8  teacher    baptized       preach    lifted    called       heart   \n",
       "9   battle       stand       passed       kno    driven        make   \n",
       "\n",
       "           13            14          15           16        17          18  \\\n",
       "0        soul         death        good         time      name         law   \n",
       "1   zarahemla        number      border        began      sent        time   \n",
       "2       stead          show       earth  exceedingly     dwelt      manner   \n",
       "3  contention  commencement      thirty      chapter     chief       ninth   \n",
       "4        wall         place      caused          saw     built        part   \n",
       "5        cast           may        fire         mine      much      season   \n",
       "6       began        desire   commanded     together      slay  concerning   \n",
       "7      beheld     scattered  concerning      written   prophet        face   \n",
       "8  throughout          high       every    establish  iniquity        much   \n",
       "9        year       miracle       speak         take      face       water   \n",
       "\n",
       "           19  \n",
       "0      repent  \n",
       "1        slay  \n",
       "2     prophet  \n",
       "3       forty  \n",
       "4   zarahemla  \n",
       "5        away  \n",
       "6        told  \n",
       "7       angel  \n",
       "8  wickedness  \n",
       "9       blood  "
      ]
     },
     "execution_count": 62,
     "metadata": {},
     "output_type": "execute_result"
    }
   ],
   "source": [
    "topic_words_mormon = []\n",
    "for r in H_mormon:\n",
    "    a = sorted([(v,i) for i,v in enumerate(r)],reverse=True)[0:20]\n",
    "    topic_words_mormon.append([mormon_words[e[1]] for e in a])\n",
    "\n",
    "pd.DataFrame(topic_words_mormon)"
   ]
  },
  {
   "cell_type": "markdown",
   "metadata": {},
   "source": [
    "## Sentiment Analysis"
   ]
  },
  {
   "cell_type": "markdown",
   "metadata": {},
   "source": [
    "### Analysis by book"
   ]
  },
  {
   "cell_type": "markdown",
   "metadata": {},
   "source": [
    "#### Gospel of Buddha"
   ]
  },
  {
   "cell_type": "code",
   "execution_count": 63,
   "metadata": {
    "ExecuteTime": {
     "end_time": "2019-12-28T20:35:57.800101Z",
     "start_time": "2019-12-28T20:35:56.852373Z"
    }
   },
   "outputs": [],
   "source": [
    "buddha_sentiments = []\n",
    "\n",
    "for document in document_list_buddha:\n",
    "    buddha_sentiments.append(TextBlob(document).sentiment)"
   ]
  },
  {
   "cell_type": "code",
   "execution_count": 64,
   "metadata": {
    "ExecuteTime": {
     "end_time": "2019-12-28T20:35:57.810417Z",
     "start_time": "2019-12-28T20:35:57.804995Z"
    }
   },
   "outputs": [],
   "source": [
    "buddha_polarity = []\n",
    "buddha_subjectivity = []\n",
    "\n",
    "for sentiment in buddha_sentiments:\n",
    "    buddha_polarity.append(sentiment[0])\n",
    "    buddha_subjectivity.append(sentiment[1])"
   ]
  },
  {
   "cell_type": "code",
   "execution_count": 65,
   "metadata": {
    "ExecuteTime": {
     "end_time": "2019-12-28T20:35:57.819429Z",
     "start_time": "2019-12-28T20:35:57.814427Z"
    },
    "scrolled": false
   },
   "outputs": [],
   "source": [
    "# Buddhist documents with corresponding polarity \n",
    "\n",
    "buddha_docs_with_polarity = list(zip(document_list_buddha, buddha_polarity))"
   ]
  },
  {
   "cell_type": "code",
   "execution_count": 66,
   "metadata": {
    "ExecuteTime": {
     "end_time": "2019-12-28T20:35:57.834320Z",
     "start_time": "2019-12-28T20:35:57.824263Z"
    }
   },
   "outputs": [],
   "source": [
    "# Most positive documents from Gospel of the Buddha and their corresponding polarity\n",
    "\n",
    "most_positive_buddha_docs = list(reversed(sorted(buddha_docs_with_polarity, key = lambda x: x[1])))"
   ]
  },
  {
   "cell_type": "code",
   "execution_count": 67,
   "metadata": {
    "ExecuteTime": {
     "end_time": "2019-12-28T20:35:57.843918Z",
     "start_time": "2019-12-28T20:35:57.836950Z"
    }
   },
   "outputs": [],
   "source": [
    "# Most negative documents from Gospel of the Buddha and their corresponding polarity\n",
    "\n",
    "most_negative_buddha_docs = list(sorted(buddha_docs_with_polarity, key = lambda x: x[1]))"
   ]
  },
  {
   "cell_type": "markdown",
   "metadata": {},
   "source": [
    "#### Old Testament"
   ]
  },
  {
   "cell_type": "code",
   "execution_count": 68,
   "metadata": {
    "ExecuteTime": {
     "end_time": "2019-12-28T20:36:04.122570Z",
     "start_time": "2019-12-28T20:35:57.848623Z"
    }
   },
   "outputs": [],
   "source": [
    "old_testament_sentiments = []\n",
    "\n",
    "for document in document_list_old_testament:\n",
    "    old_testament_sentiments.append(TextBlob(document).sentiment)"
   ]
  },
  {
   "cell_type": "code",
   "execution_count": 69,
   "metadata": {
    "ExecuteTime": {
     "end_time": "2019-12-28T20:36:04.134586Z",
     "start_time": "2019-12-28T20:36:04.125013Z"
    }
   },
   "outputs": [],
   "source": [
    "old_testament_polarity = []\n",
    "old_testament_subjectivity = []\n",
    "\n",
    "for sentiment in old_testament_sentiments:\n",
    "    old_testament_polarity.append(sentiment[0])\n",
    "    old_testament_subjectivity.append(sentiment[1])"
   ]
  },
  {
   "cell_type": "code",
   "execution_count": 70,
   "metadata": {
    "ExecuteTime": {
     "end_time": "2019-12-28T20:36:04.144325Z",
     "start_time": "2019-12-28T20:36:04.137950Z"
    }
   },
   "outputs": [],
   "source": [
    "# Old Testament documents with corresponding polarity\n",
    "\n",
    "old_testament_docs_with_polarity = list(zip(document_list_old_testament, old_testament_polarity))"
   ]
  },
  {
   "cell_type": "code",
   "execution_count": 71,
   "metadata": {
    "ExecuteTime": {
     "end_time": "2019-12-28T20:36:04.155893Z",
     "start_time": "2019-12-28T20:36:04.147192Z"
    }
   },
   "outputs": [],
   "source": [
    "# Most positive documents from the Old Testament and their corresponding polarity\n",
    "\n",
    "most_positive_old_testament_docs = list(reversed(sorted(old_testament_docs_with_polarity, key = lambda x: x[1])))"
   ]
  },
  {
   "cell_type": "code",
   "execution_count": 72,
   "metadata": {
    "ExecuteTime": {
     "end_time": "2019-12-28T20:36:04.166833Z",
     "start_time": "2019-12-28T20:36:04.158895Z"
    }
   },
   "outputs": [],
   "source": [
    "# Most negative documents from the Old Testament and their corresponding polarity\n",
    "\n",
    "most_negative_old_testament_docs = list(sorted(old_testament_docs_with_polarity, key = lambda x: x[1]))"
   ]
  },
  {
   "cell_type": "markdown",
   "metadata": {},
   "source": [
    "#### New Testament"
   ]
  },
  {
   "cell_type": "code",
   "execution_count": 73,
   "metadata": {
    "ExecuteTime": {
     "end_time": "2019-12-28T20:36:05.905980Z",
     "start_time": "2019-12-28T20:36:04.169874Z"
    }
   },
   "outputs": [],
   "source": [
    "new_testament_sentiments = []\n",
    "\n",
    "for document in document_list_new_testament:\n",
    "    new_testament_sentiments.append(TextBlob(document).sentiment)"
   ]
  },
  {
   "cell_type": "code",
   "execution_count": 74,
   "metadata": {
    "ExecuteTime": {
     "end_time": "2019-12-28T20:36:05.917734Z",
     "start_time": "2019-12-28T20:36:05.908867Z"
    }
   },
   "outputs": [],
   "source": [
    "new_testament_polarity = []\n",
    "new_testament_subjectivity = []\n",
    "\n",
    "for sentiment in new_testament_sentiments:\n",
    "    new_testament_polarity.append(sentiment[0])\n",
    "    new_testament_subjectivity.append(sentiment[1])"
   ]
  },
  {
   "cell_type": "code",
   "execution_count": 75,
   "metadata": {
    "ExecuteTime": {
     "end_time": "2019-12-28T20:36:05.927086Z",
     "start_time": "2019-12-28T20:36:05.921141Z"
    }
   },
   "outputs": [],
   "source": [
    "# New Testament documents with corresponding polarity\n",
    "\n",
    "new_testament_docs_with_polarity = list(zip(document_list_new_testament, new_testament_polarity))"
   ]
  },
  {
   "cell_type": "code",
   "execution_count": 76,
   "metadata": {
    "ExecuteTime": {
     "end_time": "2019-12-28T20:36:05.936417Z",
     "start_time": "2019-12-28T20:36:05.930017Z"
    }
   },
   "outputs": [],
   "source": [
    "# Most positive documents from the New Testament and their corresponding polarity\n",
    "\n",
    "most_positive_new_testament_docs = list(reversed(sorted(new_testament_docs_with_polarity, key = lambda x: x[1])))"
   ]
  },
  {
   "cell_type": "code",
   "execution_count": 77,
   "metadata": {
    "ExecuteTime": {
     "end_time": "2019-12-28T20:36:05.946584Z",
     "start_time": "2019-12-28T20:36:05.939540Z"
    }
   },
   "outputs": [],
   "source": [
    "# Most negative documents from the New Testament and their corresponding polarity\n",
    "\n",
    "most_negative_new_testament_docs = list(sorted(new_testament_docs_with_polarity, key = lambda x: x[1]))"
   ]
  },
  {
   "cell_type": "markdown",
   "metadata": {},
   "source": [
    "#### Koran"
   ]
  },
  {
   "cell_type": "code",
   "execution_count": 78,
   "metadata": {
    "ExecuteTime": {
     "end_time": "2019-12-28T20:36:08.078374Z",
     "start_time": "2019-12-28T20:36:05.951630Z"
    }
   },
   "outputs": [],
   "source": [
    "koran_sentiments = []\n",
    "\n",
    "for document in document_list_koran:\n",
    "    koran_sentiments.append(TextBlob(document).sentiment)"
   ]
  },
  {
   "cell_type": "code",
   "execution_count": 79,
   "metadata": {
    "ExecuteTime": {
     "end_time": "2019-12-28T20:36:08.088852Z",
     "start_time": "2019-12-28T20:36:08.080575Z"
    }
   },
   "outputs": [],
   "source": [
    "koran_polarity = []\n",
    "koran_subjectivity = []\n",
    "\n",
    "for sentiment in koran_sentiments:\n",
    "    koran_polarity.append(sentiment[0])\n",
    "    koran_subjectivity.append(sentiment[1])"
   ]
  },
  {
   "cell_type": "code",
   "execution_count": 80,
   "metadata": {
    "ExecuteTime": {
     "end_time": "2019-12-28T20:36:08.097833Z",
     "start_time": "2019-12-28T20:36:08.092665Z"
    }
   },
   "outputs": [],
   "source": [
    "# Koran documents with corresponding polarity\n",
    "\n",
    "koran_docs_with_polarity = list(zip(document_list_koran, koran_polarity))"
   ]
  },
  {
   "cell_type": "code",
   "execution_count": 81,
   "metadata": {
    "ExecuteTime": {
     "end_time": "2019-12-28T20:36:08.109969Z",
     "start_time": "2019-12-28T20:36:08.100744Z"
    }
   },
   "outputs": [],
   "source": [
    "# Most positive documents from the Koran and their corresponding polarity\n",
    "\n",
    "most_positive_koran_docs = list(reversed(sorted(koran_docs_with_polarity, key = lambda x: x[1])))"
   ]
  },
  {
   "cell_type": "code",
   "execution_count": 82,
   "metadata": {
    "ExecuteTime": {
     "end_time": "2019-12-28T20:36:08.119779Z",
     "start_time": "2019-12-28T20:36:08.112417Z"
    }
   },
   "outputs": [],
   "source": [
    "# Most negative documents from the Koran and their corresponding polarity\n",
    "\n",
    "most_negative_koran_docs = list(sorted(koran_docs_with_polarity, key = lambda x: x[1]))"
   ]
  },
  {
   "cell_type": "markdown",
   "metadata": {},
   "source": [
    "#### Book of Mormon"
   ]
  },
  {
   "cell_type": "code",
   "execution_count": 83,
   "metadata": {
    "ExecuteTime": {
     "end_time": "2019-12-28T20:36:11.038086Z",
     "start_time": "2019-12-28T20:36:08.123200Z"
    }
   },
   "outputs": [],
   "source": [
    "mormon_sentiments = []\n",
    "\n",
    "for document in document_list_mormon:\n",
    "    mormon_sentiments.append(TextBlob(document).sentiment)"
   ]
  },
  {
   "cell_type": "code",
   "execution_count": 84,
   "metadata": {
    "ExecuteTime": {
     "end_time": "2019-12-28T20:36:11.057680Z",
     "start_time": "2019-12-28T20:36:11.040857Z"
    }
   },
   "outputs": [],
   "source": [
    "mormon_polarity = []\n",
    "mormon_subjectivity = []\n",
    "\n",
    "for sentiment in mormon_sentiments:\n",
    "    mormon_polarity.append(sentiment[0])\n",
    "    mormon_subjectivity.append(sentiment[1])"
   ]
  },
  {
   "cell_type": "code",
   "execution_count": 85,
   "metadata": {
    "ExecuteTime": {
     "end_time": "2019-12-28T20:36:11.066895Z",
     "start_time": "2019-12-28T20:36:11.060857Z"
    }
   },
   "outputs": [],
   "source": [
    "# Mormon documents with corresponding polarity\n",
    "\n",
    "mormon_docs_with_polarity = list(zip(document_list_mormon, mormon_polarity))"
   ]
  },
  {
   "cell_type": "code",
   "execution_count": 86,
   "metadata": {
    "ExecuteTime": {
     "end_time": "2019-12-28T20:36:11.081247Z",
     "start_time": "2019-12-28T20:36:11.072819Z"
    }
   },
   "outputs": [],
   "source": [
    "# Most positive documents from the Book of Mormon and their corresponding polarity\n",
    "\n",
    "most_positive_mormon_docs = list(reversed(sorted(mormon_docs_with_polarity, key = lambda x: x[1])))"
   ]
  },
  {
   "cell_type": "code",
   "execution_count": 87,
   "metadata": {
    "ExecuteTime": {
     "end_time": "2019-12-28T20:36:11.095301Z",
     "start_time": "2019-12-28T20:36:11.085717Z"
    }
   },
   "outputs": [],
   "source": [
    "# Most negative documents from the Book of Mormon and their corresponding polarity\n",
    "\n",
    "most_negative_mormon_docs = list(sorted(mormon_docs_with_polarity, key = lambda x: x[1]))"
   ]
  },
  {
   "cell_type": "markdown",
   "metadata": {},
   "source": [
    "### Find percentage of documents in each text with high, low, and neutral polarities"
   ]
  },
  {
   "cell_type": "code",
   "execution_count": 88,
   "metadata": {
    "ExecuteTime": {
     "end_time": "2019-12-28T20:36:11.107486Z",
     "start_time": "2019-12-28T20:36:11.097912Z"
    }
   },
   "outputs": [],
   "source": [
    "def high_polarity_docs(l):\n",
    "    '''\n",
    "    return the percentage of documents that have a positive polarity\n",
    "    '''\n",
    "    c = 0\n",
    "    for polarity in l:\n",
    "        if polarity > 0:\n",
    "            c += 1\n",
    "    return int(c / (len(l)) * 100)\n",
    "\n",
    "pct_happy_buddha = high_polarity_docs(buddha_polarity)\n",
    "pct_happy_old_testament = high_polarity_docs(old_testament_polarity)\n",
    "pct_happy_new_testament = high_polarity_docs(new_testament_polarity)\n",
    "pct_happy_koran = high_polarity_docs(koran_polarity)\n",
    "pct_happy_mormon = high_polarity_docs(mormon_polarity)"
   ]
  },
  {
   "cell_type": "code",
   "execution_count": 89,
   "metadata": {
    "ExecuteTime": {
     "end_time": "2019-12-28T20:36:11.119153Z",
     "start_time": "2019-12-28T20:36:11.109920Z"
    }
   },
   "outputs": [
    {
     "name": "stdout",
     "output_type": "stream",
     "text": [
      "Percentage of happy documents – Buddhism: 74 %\n",
      "Percentage of happy documents – Old Testament: 57 %\n",
      "Percentage of happy documents – New Testament: 70 %\n",
      "Percentage of happy documents – Koran: 69 %\n",
      "Percentage of happy documents – Book of Mormon: 67 %\n"
     ]
    }
   ],
   "source": [
    "print('Percentage of happy documents – Buddhism:', pct_happy_buddha, '%')\n",
    "print('Percentage of happy documents – Old Testament:', pct_happy_old_testament, '%')\n",
    "print('Percentage of happy documents – New Testament:', pct_happy_new_testament, '%')\n",
    "print('Percentage of happy documents – Koran:', pct_happy_koran, '%')\n",
    "print('Percentage of happy documents – Book of Mormon:', pct_happy_mormon, '%')"
   ]
  },
  {
   "cell_type": "code",
   "execution_count": 90,
   "metadata": {
    "ExecuteTime": {
     "end_time": "2019-12-28T20:36:11.130412Z",
     "start_time": "2019-12-28T20:36:11.121842Z"
    }
   },
   "outputs": [],
   "source": [
    "def low_polarity_docs(l):\n",
    "    '''\n",
    "    return the percentage of documents that have a negative polarity\n",
    "    '''\n",
    "    c = 0\n",
    "    for polarity in l:\n",
    "        if polarity < 0:\n",
    "            c += 1\n",
    "    return int(c / (len(l)) * 100)\n",
    "\n",
    "pct_sad_buddha = low_polarity_docs(buddha_polarity)\n",
    "pct_sad_old_testament = low_polarity_docs(old_testament_polarity)\n",
    "pct_sad_new_testament = low_polarity_docs(new_testament_polarity)\n",
    "pct_sad_koran = low_polarity_docs(koran_polarity)\n",
    "pct_sad_mormon = low_polarity_docs(mormon_polarity)"
   ]
  },
  {
   "cell_type": "code",
   "execution_count": 91,
   "metadata": {
    "ExecuteTime": {
     "end_time": "2019-12-28T20:36:11.143183Z",
     "start_time": "2019-12-28T20:36:11.134992Z"
    },
    "scrolled": false
   },
   "outputs": [
    {
     "name": "stdout",
     "output_type": "stream",
     "text": [
      "Percentage of negative documents – Buddhism: 21 %\n",
      "Percentage of negative documents – Old Testament: 29 %\n",
      "Percentage of negative documents – New Testament: 21 %\n",
      "Percentage of negative documents – Koran: 26 %\n",
      "Percentage of negative documents – Book of Mormon: 23 %\n"
     ]
    }
   ],
   "source": [
    "print('Percentage of negative documents – Buddhism:', pct_sad_buddha, '%')\n",
    "print('Percentage of negative documents – Old Testament:', pct_sad_old_testament, '%')\n",
    "print('Percentage of negative documents – New Testament:', pct_sad_new_testament, '%')\n",
    "print('Percentage of negative documents – Koran:', pct_sad_koran, '%')\n",
    "print('Percentage of negative documents – Book of Mormon:', pct_sad_mormon, '%')"
   ]
  },
  {
   "cell_type": "code",
   "execution_count": 92,
   "metadata": {
    "ExecuteTime": {
     "end_time": "2019-12-28T20:36:11.159018Z",
     "start_time": "2019-12-28T20:36:11.146402Z"
    }
   },
   "outputs": [],
   "source": [
    "def neutral_polarity_docs(l):\n",
    "    '''\n",
    "    return the percentage of documents that have a neutral polarity (between -.2 and .2, inclusive)\n",
    "    '''\n",
    "    c = 0\n",
    "    for polarity in l:\n",
    "        if -.2 <= polarity <= .2:\n",
    "            c += 1\n",
    "    return int(c / (len(l)) * 100)\n",
    "\n",
    "pct_neutral_buddha = neutral_polarity_docs(buddha_polarity)\n",
    "pct_neutral_old_testament = neutral_polarity_docs(old_testament_polarity)\n",
    "pct_neutral_new_testament = neutral_polarity_docs(new_testament_polarity)\n",
    "pct_neutral_koran = neutral_polarity_docs(koran_polarity)\n",
    "pct_neutral_mormon = neutral_polarity_docs(mormon_polarity)"
   ]
  },
  {
   "cell_type": "code",
   "execution_count": 93,
   "metadata": {
    "ExecuteTime": {
     "end_time": "2019-12-28T20:36:11.178723Z",
     "start_time": "2019-12-28T20:36:11.163035Z"
    },
    "scrolled": true
   },
   "outputs": [
    {
     "name": "stdout",
     "output_type": "stream",
     "text": [
      "Percentage of neutral documents – Buddhism: 57 %\n",
      "Percentage of neutral documents – Old Testament: 59 %\n",
      "Percentage of neutral documents – New Testament: 56 %\n",
      "Percentage of neutral documents – Koran: 62 %\n",
      "Percentage of neutral documents – Book of Mormon: 49 %\n"
     ]
    }
   ],
   "source": [
    "print('Percentage of neutral documents – Buddhism:', pct_neutral_buddha, '%')\n",
    "print('Percentage of neutral documents – Old Testament:', pct_neutral_old_testament, '%')\n",
    "print('Percentage of neutral documents – New Testament:', pct_neutral_new_testament, '%')\n",
    "print('Percentage of neutral documents – Koran:', pct_neutral_koran, '%')\n",
    "print('Percentage of neutral documents – Book of Mormon:', pct_neutral_mormon, '%')"
   ]
  },
  {
   "cell_type": "markdown",
   "metadata": {},
   "source": [
    "### Rolling average of sentiment in each text"
   ]
  },
  {
   "cell_type": "code",
   "execution_count": 94,
   "metadata": {
    "ExecuteTime": {
     "end_time": "2019-12-28T20:36:11.189814Z",
     "start_time": "2019-12-28T20:36:11.181837Z"
    },
    "code_folding": []
   },
   "outputs": [],
   "source": [
    "def running_mean(l, window):\n",
    "\n",
    "    # Window is equal to roughly 5% of length of book\n",
    "    \n",
    "    return np.convolve(l, np.ones(window)/window, mode='valid') # only return products within the signal boundary\n",
    "\n",
    "buddha_running_mean = running_mean(buddha_polarity, 41)\n",
    "old_testament_running_mean = running_mean(old_testament_polarity, 305)\n",
    "new_testament_running_mean = running_mean(new_testament_polarity, 90)\n",
    "koran_running_mean = running_mean(koran_polarity, 101)\n",
    "mormon_running_mean = running_mean(mormon_polarity, 138)"
   ]
  },
  {
   "cell_type": "markdown",
   "metadata": {},
   "source": [
    "### Plot rolling polarity averages"
   ]
  },
  {
   "cell_type": "code",
   "execution_count": 105,
   "metadata": {
    "ExecuteTime": {
     "end_time": "2019-12-28T20:37:40.871650Z",
     "start_time": "2019-12-28T20:37:40.384180Z"
    },
    "scrolled": false
   },
   "outputs": [
    {
     "data": {
      "image/png": "[encoded data removed]",
      "text/plain": [
       "<Figure size 1080x648 with 1 Axes>"
      ]
     },
     "metadata": {
      "needs_background": "light"
     },
     "output_type": "display_data"
    }
   ],
   "source": [
    "plt.figure(figsize=(15, 9))\n",
    "\n",
    "axes = plt.axes()\n",
    "axes.set_ylim([-.05, .30])\n",
    "axes.set_yticks([-.05, 0, 0.05, 0.1, 0.15, 0.2, 0.25])\n",
    "\n",
    "plt.plot(buddha_running_mean)\n",
    "plt.title('Gospel of the Buddha Sentiment Analysis', fontsize=17, pad=10)\n",
    "\n",
    "plt.xlabel('Documents', fontsize=15, labelpad=10)\n",
    "plt.ylabel('Polarity', fontsize=15, labelpad=10)\n",
    "\n",
    "plt.xticks(size=13)\n",
    "plt.yticks(size=13)\n",
    "\n",
    "plt.savefig('figures/Buddha_Sentiment_Analysis.png');"
   ]
  },
  {
   "cell_type": "code",
   "execution_count": 104,
   "metadata": {
    "ExecuteTime": {
     "end_time": "2019-12-28T20:37:30.791021Z",
     "start_time": "2019-12-28T20:37:30.284572Z"
    }
   },
   "outputs": [
    {
     "data": {
      "image/png": "[encoded data removed]",
      "text/plain": [
       "<Figure size 1080x648 with 1 Axes>"
      ]
     },
     "metadata": {
      "needs_background": "light"
     },
     "output_type": "display_data"
    }
   ],
   "source": [
    "plt.figure(figsize=(15, 9))\n",
    "\n",
    "axes = plt.axes()\n",
    "axes.set_ylim([-.05, .30])\n",
    "axes.set_yticks([-.05, 0, 0.05, 0.1, 0.15, 0.2, 0.25])\n",
    "\n",
    "plt.plot(old_testament_running_mean)\n",
    "plt.title('Old Testament Sentiment Analysis', fontsize=17, pad=10)\n",
    "\n",
    "plt.xlabel('Documents', fontsize=15, labelpad=10)\n",
    "plt.ylabel('Polarity', fontsize=15, labelpad=10)\n",
    "\n",
    "plt.xticks(size=13)\n",
    "plt.yticks(size=13)\n",
    "\n",
    "plt.savefig('figures/Old_T_Sentiment_Analysis.png');"
   ]
  },
  {
   "cell_type": "code",
   "execution_count": 101,
   "metadata": {
    "ExecuteTime": {
     "end_time": "2019-12-28T20:37:11.410130Z",
     "start_time": "2019-12-28T20:37:10.922510Z"
    }
   },
   "outputs": [
    {
     "data": {
      "image/png": "[encoded data removed]",
      "text/plain": [
       "<Figure size 1080x648 with 1 Axes>"
      ]
     },
     "metadata": {
      "needs_background": "light"
     },
     "output_type": "display_data"
    }
   ],
   "source": [
    "plt.figure(figsize=(15, 9))\n",
    "\n",
    "axes = plt.axes()\n",
    "axes.set_ylim([-.05, .30])\n",
    "axes.set_yticks([-.05, 0, 0.05, 0.1, 0.15, 0.2, 0.25])\n",
    "\n",
    "plt.plot(new_testament_running_mean)\n",
    "plt.title('New Testament Sentiment Analysis', fontsize=17, pad=10)\n",
    "\n",
    "plt.xlabel('Documents', fontsize=15, labelpad=10)\n",
    "plt.ylabel('Polarity', fontsize=15, labelpad=10)\n",
    "\n",
    "plt.xticks(size=13)\n",
    "plt.yticks(size=13)\n",
    "\n",
    "plt.savefig('figures/New_T_Sentiment_Analysis.png');"
   ]
  },
  {
   "cell_type": "code",
   "execution_count": 102,
   "metadata": {
    "ExecuteTime": {
     "end_time": "2019-12-28T20:37:15.923065Z",
     "start_time": "2019-12-28T20:37:15.420130Z"
    }
   },
   "outputs": [
    {
     "data": {
      "image/png": "[encoded data removed]",
      "text/plain": [
       "<Figure size 1080x648 with 1 Axes>"
      ]
     },
     "metadata": {
      "needs_background": "light"
     },
     "output_type": "display_data"
    }
   ],
   "source": [
    "plt.figure(figsize=(15, 9))\n",
    "\n",
    "axes = plt.axes()\n",
    "axes.set_ylim([-.05, .30])\n",
    "axes.set_yticks([-.05, 0, 0.05, 0.1, 0.15, 0.2, 0.25])\n",
    "\n",
    "plt.plot(koran_running_mean)\n",
    "plt.title('Koran Sentiment Analysis', fontsize=17, pad=10)\n",
    "\n",
    "plt.xlabel('Documents', fontsize=15, labelpad=10)\n",
    "plt.ylabel('Polarity', fontsize=15, labelpad=10)\n",
    "\n",
    "plt.xticks(size=13)\n",
    "plt.yticks(size=13)\n",
    "\n",
    "plt.savefig('figures/Koran_Sentiment_Analysis.png');"
   ]
  },
  {
   "cell_type": "code",
   "execution_count": 103,
   "metadata": {
    "ExecuteTime": {
     "end_time": "2019-12-28T20:37:22.286063Z",
     "start_time": "2019-12-28T20:37:21.780871Z"
    }
   },
   "outputs": [
    {
     "data": {
      "image/png": "[encoded data removed]",
      "text/plain": [
       "<Figure size 1080x648 with 1 Axes>"
      ]
     },
     "metadata": {
      "needs_background": "light"
     },
     "output_type": "display_data"
    }
   ],
   "source": [
    "plt.figure(figsize=(15, 9))\n",
    "\n",
    "axes = plt.axes()\n",
    "axes.set_ylim([-.05, .30])\n",
    "axes.set_yticks([-.05, 0, 0.05, 0.1, 0.15, 0.2, 0.25])\n",
    "\n",
    "plt.plot(mormon_running_mean)\n",
    "plt.title('Book of Mormon Sentiment Analysis', fontsize=17, pad=10)\n",
    "\n",
    "plt.xlabel('Documents', fontsize=15, labelpad=10)\n",
    "plt.ylabel('Polarity', fontsize=15, labelpad=10)\n",
    "\n",
    "plt.xticks(size=13)\n",
    "plt.yticks(size=13)\n",
    "\n",
    "plt.savefig('figures/Mormon_Sentiment_Analysis.png');"
   ]
  },
  {
   "cell_type": "markdown",
   "metadata": {},
   "source": [
    "## Scatter Text"
   ]
  },
  {
   "cell_type": "code",
   "execution_count": null,
   "metadata": {
    "ExecuteTime": {
     "end_time": "2019-12-28T20:35:21.214856Z",
     "start_time": "2019-12-28T20:35:15.484Z"
    }
   },
   "outputs": [],
   "source": [
    "buddha_scatter_df = pd.DataFrame(document_list_buddha, columns=['Text'])\n",
    "buddha_scatter_df['Book'] = 'Gospel of the Buddha'\n",
    "buddha_scatter_df['Sentiment'] = buddha_polarity\n",
    "\n",
    "old_testament_scatter_df = pd.DataFrame(document_list_old_testament, columns=['Text'])\n",
    "old_testament_scatter_df['Book'] = 'Old Testament'\n",
    "old_testament_scatter_df['Sentiment'] = old_testament_polarity\n",
    "\n",
    "new_testament_scatter_df = pd.DataFrame(document_list_new_testament, columns=['Text'])\n",
    "new_testament_scatter_df['Book'] = 'New Testament'\n",
    "new_testament_scatter_df['Sentiment'] = new_testament_polarity\n",
    "\n",
    "koran_scatter_df = pd.DataFrame(document_list_koran, columns=['Text'])\n",
    "koran_scatter_df['Book'] = 'Koran'\n",
    "koran_scatter_df['Sentiment'] = koran_polarity\n",
    "\n",
    "mormon_scatter_df = pd.DataFrame(document_list_mormon, columns=['Text'])\n",
    "mormon_scatter_df['Book'] = 'Book of Mormon'\n",
    "mormon_scatter_df['Sentiment'] = mormon_polarity"
   ]
  },
  {
   "cell_type": "code",
   "execution_count": null,
   "metadata": {
    "ExecuteTime": {
     "end_time": "2019-12-28T20:35:21.216681Z",
     "start_time": "2019-12-28T20:35:15.568Z"
    },
    "scrolled": true
   },
   "outputs": [],
   "source": [
    "df = pd.concat([buddha_scatter_df, old_testament_scatter_df, new_testament_scatter_df,\n",
    "                    koran_scatter_df, mormon_scatter_df])"
   ]
  },
  {
   "cell_type": "code",
   "execution_count": null,
   "metadata": {
    "ExecuteTime": {
     "end_time": "2019-12-28T20:35:21.218073Z",
     "start_time": "2019-12-28T20:35:15.655Z"
    }
   },
   "outputs": [],
   "source": [
    "# Number of very negative documents in each book (not controlled for length of book)\n",
    "\n",
    "df[df['Sentiment'] <= -.6]['Book'].value_counts()"
   ]
  },
  {
   "cell_type": "code",
   "execution_count": null,
   "metadata": {
    "ExecuteTime": {
     "end_time": "2019-12-28T20:35:21.219735Z",
     "start_time": "2019-12-28T20:35:15.736Z"
    }
   },
   "outputs": [],
   "source": [
    "# Number of very positive documents in each book (not controlled for length of book)\n",
    "\n",
    "df[df['Sentiment'] >= .75]['Book'].value_counts()"
   ]
  },
  {
   "cell_type": "code",
   "execution_count": null,
   "metadata": {
    "ExecuteTime": {
     "end_time": "2019-12-28T20:35:21.221410Z",
     "start_time": "2019-12-28T20:35:15.820Z"
    }
   },
   "outputs": [],
   "source": [
    "(df.groupby(['Book', 'Sentiment', 'Text'])\n",
    " .count()\n",
    " .sort_values('Sentiment', ascending=True)\n",
    " .head(5)\n",
    " .sample(frac=1))"
   ]
  },
  {
   "cell_type": "markdown",
   "metadata": {},
   "source": [
    "### Buddhism vs Mormonism"
   ]
  },
  {
   "cell_type": "code",
   "execution_count": null,
   "metadata": {
    "ExecuteTime": {
     "end_time": "2019-12-28T20:35:21.223155Z",
     "start_time": "2019-12-28T20:35:16.069Z"
    }
   },
   "outputs": [],
   "source": [
    "df_buddhism_vs_mormonism = pd.concat([buddha_scatter_df, mormon_scatter_df]).sample(frac=1)"
   ]
  },
  {
   "cell_type": "code",
   "execution_count": null,
   "metadata": {
    "ExecuteTime": {
     "end_time": "2019-12-28T20:35:21.224540Z",
     "start_time": "2019-12-28T20:35:16.124Z"
    }
   },
   "outputs": [],
   "source": [
    "scatter_text_df_buddhism_vs_mormonism = st.CorpusFromPandas(df_buddhism_vs_mormonism,\n",
    "                             category_col='Book',\n",
    "                             text_col='Text',\n",
    "                             nlp=st.whitespace_nlp_with_sentences\n",
    "                            ).build().remove_terms(stop_words, ignore_absences=True)"
   ]
  },
  {
   "cell_type": "code",
   "execution_count": null,
   "metadata": {
    "ExecuteTime": {
     "end_time": "2019-12-28T20:35:21.226005Z",
     "start_time": "2019-12-28T20:35:16.179Z"
    }
   },
   "outputs": [],
   "source": [
    "html_buddhism_vs_mormonism = st.produce_scattertext_explorer(\n",
    "        scatter_text_df_buddhism_vs_mormonism,\n",
    "        category='Gospel of the Buddha',\n",
    "        category_name='Buddhism',\n",
    "        not_category_name='Mormonism',\n",
    "        minimum_term_frequency=10,\n",
    "        pmi_threshold_coefficient=5,\n",
    "        width_in_pixels=1000,\n",
    "        )"
   ]
  },
  {
   "cell_type": "code",
   "execution_count": null,
   "metadata": {
    "ExecuteTime": {
     "end_time": "2019-12-28T20:35:21.227643Z",
     "start_time": "2019-12-28T20:35:16.241Z"
    }
   },
   "outputs": [],
   "source": [
    "open('figures/buddhism_vs_mormonism.html', 'wb').write(html_buddhism_vs_mormonism.encode('utf-8'));"
   ]
  },
  {
   "cell_type": "markdown",
   "metadata": {},
   "source": [
    "### Old Testament vs. New Testament"
   ]
  },
  {
   "cell_type": "code",
   "execution_count": null,
   "metadata": {
    "ExecuteTime": {
     "end_time": "2019-12-28T20:35:21.229021Z",
     "start_time": "2019-12-28T20:35:16.408Z"
    }
   },
   "outputs": [],
   "source": [
    "df_old_testament_vs_new_testament = pd.concat([old_testament_scatter_df, new_testament_scatter_df]).sample(frac=1)"
   ]
  },
  {
   "cell_type": "code",
   "execution_count": null,
   "metadata": {
    "ExecuteTime": {
     "end_time": "2019-12-28T20:35:21.230711Z",
     "start_time": "2019-12-28T20:35:16.494Z"
    }
   },
   "outputs": [],
   "source": [
    "scatter_text_df_old_testament_vs_new_testament = st.CorpusFromPandas(df_old_testament_vs_new_testament,\n",
    "                             category_col='Book',\n",
    "                             text_col='Text',\n",
    "                             nlp=st.whitespace_nlp_with_sentences\n",
    "                            ).build().remove_terms(stop_words, ignore_absences=True)"
   ]
  },
  {
   "cell_type": "code",
   "execution_count": null,
   "metadata": {
    "ExecuteTime": {
     "end_time": "2019-12-28T20:35:21.232078Z",
     "start_time": "2019-12-28T20:35:16.575Z"
    }
   },
   "outputs": [],
   "source": [
    "html_old_testament_vs_new_testament = st.produce_scattertext_explorer(\n",
    "        scatter_text_df_old_testament_vs_new_testament,\n",
    "        category='Old Testament',\n",
    "        category_name='Old Testament',\n",
    "        not_category_name='New Testament',\n",
    "        minimum_term_frequency=10,\n",
    "        pmi_threshold_coefficient=5,\n",
    "        width_in_pixels=1000,\n",
    "        )"
   ]
  },
  {
   "cell_type": "code",
   "execution_count": null,
   "metadata": {
    "ExecuteTime": {
     "end_time": "2019-12-28T20:35:21.233845Z",
     "start_time": "2019-12-28T20:35:16.659Z"
    }
   },
   "outputs": [],
   "source": [
    "open('figures/old_testament_vs_new_testament.html', 'wb').write(html_old_testament_vs_new_testament.encode('utf-8'));"
   ]
  },
  {
   "cell_type": "markdown",
   "metadata": {},
   "source": [
    "### Koran vs. New Testament"
   ]
  },
  {
   "cell_type": "code",
   "execution_count": null,
   "metadata": {
    "ExecuteTime": {
     "end_time": "2019-12-28T20:35:21.235200Z",
     "start_time": "2019-12-28T20:35:16.827Z"
    }
   },
   "outputs": [],
   "source": [
    "df_koran_vs_new_testament = pd.concat([koran_scatter_df, new_testament_scatter_df]).sample(frac=1)"
   ]
  },
  {
   "cell_type": "code",
   "execution_count": null,
   "metadata": {
    "ExecuteTime": {
     "end_time": "2019-12-28T20:35:21.236570Z",
     "start_time": "2019-12-28T20:35:16.911Z"
    }
   },
   "outputs": [],
   "source": [
    "scatter_text_df_koran_vs_new_testament = st.CorpusFromPandas(df_koran_vs_new_testament,\n",
    "                             category_col='Book',\n",
    "                             text_col='Text',\n",
    "                             nlp=st.whitespace_nlp_with_sentences\n",
    "                            ).build().remove_terms(stop_words, ignore_absences=True)"
   ]
  },
  {
   "cell_type": "code",
   "execution_count": null,
   "metadata": {
    "ExecuteTime": {
     "end_time": "2019-12-28T20:35:21.238157Z",
     "start_time": "2019-12-28T20:35:16.995Z"
    }
   },
   "outputs": [],
   "source": [
    "html_koran_vs_new_testament = st.produce_scattertext_explorer(\n",
    "        scatter_text_df_koran_vs_new_testament,\n",
    "        category='Koran',\n",
    "        category_name='Islam',\n",
    "        not_category_name='New Testament',\n",
    "        minimum_term_frequency=10,\n",
    "        pmi_threshold_coefficient=5,\n",
    "        width_in_pixels=1000,\n",
    "        )"
   ]
  },
  {
   "cell_type": "code",
   "execution_count": null,
   "metadata": {
    "ExecuteTime": {
     "end_time": "2019-12-28T20:35:21.239331Z",
     "start_time": "2019-12-28T20:35:17.079Z"
    }
   },
   "outputs": [],
   "source": [
    "open('figures/koran_vs_new_testament.html', 'wb').write(html_koran_vs_new_testament.encode('utf-8'));"
   ]
  },
  {
   "cell_type": "markdown",
   "metadata": {},
   "source": [
    "### Koran vs. Buddhism"
   ]
  },
  {
   "cell_type": "code",
   "execution_count": null,
   "metadata": {
    "ExecuteTime": {
     "end_time": "2019-12-28T20:35:21.240927Z",
     "start_time": "2019-12-28T20:35:17.249Z"
    }
   },
   "outputs": [],
   "source": [
    "df_koran_vs_buddhism = pd.concat([koran_scatter_df, buddha_scatter_df]).sample(frac=1)"
   ]
  },
  {
   "cell_type": "code",
   "execution_count": null,
   "metadata": {
    "ExecuteTime": {
     "end_time": "2019-12-28T20:35:21.243053Z",
     "start_time": "2019-12-28T20:35:17.330Z"
    }
   },
   "outputs": [],
   "source": [
    "scatter_text_df_koran_vs_buddhism = st.CorpusFromPandas(df_koran_vs_buddhism,\n",
    "                             category_col='Book',\n",
    "                             text_col='Text',\n",
    "                             nlp=st.whitespace_nlp_with_sentences\n",
    "                            ).build().remove_terms(stop_words, ignore_absences=True)"
   ]
  },
  {
   "cell_type": "code",
   "execution_count": null,
   "metadata": {
    "ExecuteTime": {
     "end_time": "2019-12-28T20:35:21.244419Z",
     "start_time": "2019-12-28T20:35:17.414Z"
    }
   },
   "outputs": [],
   "source": [
    "html_koran_vs_buddhism = st.produce_scattertext_explorer(\n",
    "        scatter_text_df_koran_vs_buddhism,\n",
    "        category='Koran',\n",
    "        category_name='Islam',\n",
    "        not_category_name='Buddhism',\n",
    "        minimum_term_frequency=10,\n",
    "        pmi_threshold_coefficient=5,\n",
    "        width_in_pixels=1000,\n",
    "        )"
   ]
  },
  {
   "cell_type": "code",
   "execution_count": null,
   "metadata": {
    "ExecuteTime": {
     "end_time": "2019-12-28T20:35:21.245694Z",
     "start_time": "2019-12-28T20:35:17.498Z"
    }
   },
   "outputs": [],
   "source": [
    "open('figures/koran_vs_buddhism.html', 'wb').write(html_koran_vs_buddhism.encode('utf-8'));"
   ]
  },
  {
   "cell_type": "markdown",
   "metadata": {},
   "source": [
    "### New Testament vs. Mormonism"
   ]
  },
  {
   "cell_type": "code",
   "execution_count": 235,
   "metadata": {
    "ExecuteTime": {
     "end_time": "2019-12-28T20:26:57.308884Z",
     "start_time": "2019-12-28T20:26:57.297631Z"
    }
   },
   "outputs": [],
   "source": [
    "df_new_testament_vs_mormonism = pd.concat([new_testament_scatter_df, mormon_scatter_df]).sample(frac=1)"
   ]
  },
  {
   "cell_type": "code",
   "execution_count": 236,
   "metadata": {
    "ExecuteTime": {
     "end_time": "2019-12-28T20:27:16.803223Z",
     "start_time": "2019-12-28T20:26:57.311753Z"
    }
   },
   "outputs": [],
   "source": [
    "scatter_text_df_new_testament_vs_mormonism = st.CorpusFromPandas(df_new_testament_vs_mormonism,\n",
    "                             category_col='Book',\n",
    "                             text_col='Text',\n",
    "                             nlp=st.whitespace_nlp_with_sentences\n",
    "                            ).build().remove_terms(stop_words, ignore_absences=True)"
   ]
  },
  {
   "cell_type": "code",
   "execution_count": 237,
   "metadata": {
    "ExecuteTime": {
     "end_time": "2019-12-28T20:27:21.486819Z",
     "start_time": "2019-12-28T20:27:16.806182Z"
    }
   },
   "outputs": [],
   "source": [
    "html_new_testament_vs_mormonism = st.produce_scattertext_explorer(\n",
    "        scatter_text_df_new_testament_vs_mormonism ,\n",
    "        category='New Testament',\n",
    "        category_name='New Testament',\n",
    "        not_category_name='Mormonism',\n",
    "        minimum_term_frequency=10,\n",
    "        pmi_threshold_coefficient=5,\n",
    "        width_in_pixels=1000,\n",
    "        )"
   ]
  },
  {
   "cell_type": "code",
   "execution_count": 238,
   "metadata": {
    "ExecuteTime": {
     "end_time": "2019-12-28T20:27:21.501532Z",
     "start_time": "2019-12-28T20:27:21.490049Z"
    }
   },
   "outputs": [],
   "source": [
    "open('figures/new_testament_vs_mormonism.html', 'wb').write(html_new_testament_vs_mormonism.encode('utf-8'));"
   ]
  },
  {
   "cell_type": "markdown",
   "metadata": {},
   "source": [
    "### Buddhism vs. Old Testament"
   ]
  },
  {
   "cell_type": "code",
   "execution_count": 239,
   "metadata": {
    "ExecuteTime": {
     "end_time": "2019-12-28T20:27:21.517048Z",
     "start_time": "2019-12-28T20:27:21.509498Z"
    }
   },
   "outputs": [],
   "source": [
    "df_buddhism_vs_old_testament = pd.concat([buddha_scatter_df, old_testament_scatter_df]).sample(frac=1)"
   ]
  },
  {
   "cell_type": "code",
   "execution_count": 240,
   "metadata": {
    "ExecuteTime": {
     "end_time": "2019-12-28T20:27:50.798806Z",
     "start_time": "2019-12-28T20:27:21.525544Z"
    }
   },
   "outputs": [],
   "source": [
    "scatter_text_df_buddhism_vs_old_testament = st.CorpusFromPandas(df_buddhism_vs_old_testament,\n",
    "                             category_col='Book',\n",
    "                             text_col='Text',\n",
    "                             nlp=st.whitespace_nlp_with_sentences\n",
    "                            ).build().remove_terms(stop_words, ignore_absences=True)"
   ]
  },
  {
   "cell_type": "code",
   "execution_count": 241,
   "metadata": {
    "ExecuteTime": {
     "end_time": "2019-12-28T20:27:55.862409Z",
     "start_time": "2019-12-28T20:27:50.800727Z"
    }
   },
   "outputs": [],
   "source": [
    "html_buddhism_vs_old_testament = st.produce_scattertext_explorer(\n",
    "        scatter_text_df_buddhism_vs_old_testament,\n",
    "        category='Gospel of the Buddha',\n",
    "        category_name='Buddhism',\n",
    "        not_category_name='Old Testament',\n",
    "        minimum_term_frequency=10,\n",
    "        pmi_threshold_coefficient=5,\n",
    "        width_in_pixels=1000,\n",
    "        )"
   ]
  },
  {
   "cell_type": "code",
   "execution_count": 242,
   "metadata": {
    "ExecuteTime": {
     "end_time": "2019-12-28T20:27:55.881957Z",
     "start_time": "2019-12-28T20:27:55.864780Z"
    }
   },
   "outputs": [],
   "source": [
    "open('figures/buddhism_vs_old_testament.html', 'wb').write(html_buddhism_vs_old_testament.encode('utf-8'));"
   ]
  },
  {
   "cell_type": "markdown",
   "metadata": {},
   "source": [
    "### Koran vs. Mormonism"
   ]
  },
  {
   "cell_type": "code",
   "execution_count": 243,
   "metadata": {
    "ExecuteTime": {
     "end_time": "2019-12-28T20:27:55.898580Z",
     "start_time": "2019-12-28T20:27:55.887123Z"
    }
   },
   "outputs": [],
   "source": [
    "df_koran_vs_mormonism = pd.concat([koran_scatter_df, mormon_scatter_df]).sample(frac=1)"
   ]
  },
  {
   "cell_type": "code",
   "execution_count": 244,
   "metadata": {
    "ExecuteTime": {
     "end_time": "2019-12-28T20:28:16.532095Z",
     "start_time": "2019-12-28T20:27:55.904618Z"
    }
   },
   "outputs": [],
   "source": [
    "scatter_text_df_koran_vs_mormonism = st.CorpusFromPandas(df_koran_vs_mormonism,\n",
    "                             category_col='Book',\n",
    "                             text_col='Text',\n",
    "                             nlp=st.whitespace_nlp_with_sentences\n",
    "                            ).build().remove_terms(stop_words, ignore_absences=True)"
   ]
  },
  {
   "cell_type": "code",
   "execution_count": 245,
   "metadata": {
    "ExecuteTime": {
     "end_time": "2019-12-28T20:28:20.842830Z",
     "start_time": "2019-12-28T20:28:16.534579Z"
    }
   },
   "outputs": [],
   "source": [
    "html_koran_vs_mormonism = st.produce_scattertext_explorer(\n",
    "        scatter_text_df_koran_vs_mormonism,\n",
    "        category='Koran',\n",
    "        category_name='Islam',\n",
    "        not_category_name='Mormonism',\n",
    "        minimum_term_frequency=10,\n",
    "        pmi_threshold_coefficient=5,\n",
    "        width_in_pixels=1000,\n",
    "        )"
   ]
  },
  {
   "cell_type": "code",
   "execution_count": 246,
   "metadata": {
    "ExecuteTime": {
     "end_time": "2019-12-28T20:28:20.854406Z",
     "start_time": "2019-12-28T20:28:20.844932Z"
    }
   },
   "outputs": [],
   "source": [
    "open('figures/koran_vs_mormonism.html', 'wb').write(html_koran_vs_mormonism.encode('utf-8'));"
   ]
  },
  {
   "cell_type": "code",
   "execution_count": null,
   "metadata": {},
   "outputs": [],
   "source": []
  }
 ],
 "metadata": {
  "kernelspec": {
   "display_name": "Python 3",
   "language": "python",
   "name": "python3"
  },
  "language_info": {
   "codemirror_mode": {
    "name": "ipython",
    "version": 3
   },
   "file_extension": ".py",
   "mimetype": "text/x-python",
   "name": "python",
   "nbconvert_exporter": "python",
   "pygments_lexer": "ipython3",
   "version": "3.5.6"
  },
  "toc": {
   "base_numbering": 1,
   "nav_menu": {},
   "number_sections": true,
   "sideBar": true,
   "skip_h1_title": false,
   "title_cell": "Table of Contents",
   "title_sidebar": "Contents",
   "toc_cell": false,
   "toc_position": {},
   "toc_section_display": true,
   "toc_window_display": false
  }
 },
 "nbformat": 4,
 "nbformat_minor": 2
}
